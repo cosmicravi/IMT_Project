{
 "cells": [
  {
   "cell_type": "markdown",
   "metadata": {},
   "source": [
    "Importing the necessary libraries. "
   ]
  },
  {
   "cell_type": "code",
   "execution_count": 1,
   "metadata": {},
   "outputs": [],
   "source": [
    "import pandas as pd\n",
    "import numpy as np\n",
    "import matplotlib.pyplot as plt\n",
    "import seaborn as sns\n",
    "import csv"
   ]
  },
  {
   "cell_type": "code",
   "execution_count": 2,
   "metadata": {},
   "outputs": [],
   "source": [
    "# Magic function for plotting the graphs within the notebook. \n",
    "%matplotlib inline"
   ]
  },
  {
   "cell_type": "code",
   "execution_count": 3,
   "metadata": {},
   "outputs": [],
   "source": [
    "# For the better palette and themes. \n",
    "sns.set()"
   ]
  },
  {
   "cell_type": "markdown",
   "metadata": {},
   "source": [
    "The source file downloaded is present under the .\\source folder with the name, dataset.csv. \n",
    "\n",
    "This file has in total of 13 columns but some of the rows have commas as part of the field values which made some rows to have more or less columns than needed. For example, the 4th row is as follows:\n",
    "\n",
    "    U Launcher Lite â€“ FREE Live Cool Themes, Hide Apps,ART_AND_DESIGN,4.7,87510,8.7M,\"5,000,000+\",Free,0,Everyone,Art & Design,\"August 1, 2018\",1.2.4,4.0.3 and up\t\t\t\t\n",
    "    \n",
    "Which indicates that some of the fields were not surrounded with double quotes to include commas as part of the field value. Hence the following code is being used to preprocess the dataset to be suitable for loading into Pandas. \n",
    "\n",
    "The correction made is to merge all the column data before the category column, here in the above case ART_AND_DESIGN into a single column and replace the ',' in the first column to space. \n",
    "\n",
    "    U Launcher Lite â€“ FREE Live Cool Themes Hide Apps,ART_AND_DESIGN,4.7,87510,8.7M,\"5,000,000+\",Free,0,Everyone,Art & Design,\"August 1, 2018\",1.2.4,4.0.3 and up\n",
    "    \n",
    "This would align the columns properly with the column headers. \n",
    "\n",
    "The row:\n",
    "\n",
    "    \"Life Made WI-Fi Touchscreen Photo Frame,,1.9,19,3.0M,\"1,000+\",Free,0,Everyone,,\"February 11, 2018\",1.0.19,4.0 and up\t\t\t\t\"\n",
    "    \n",
    "occuring originally at 10474 row is missing the category, and hence this has been deleted from the source file. "
   ]
  },
  {
   "cell_type": "code",
   "execution_count": 4,
   "metadata": {},
   "outputs": [],
   "source": [
    "# input source file. \n",
    "input_file = open(r'.\\source\\dataset.csv', 'r', encoding = 'utf-8')\n",
    "# processed file with corrections made to the columns. \n",
    "output_file = open(r'.\\processed\\dataset_clean.csv', 'w', encoding = 'utf-8', newline = '')\n",
    "\n",
    "# Creating a csv reader from the input source file. \n",
    "csv_reader = csv.reader(input_file, delimiter = ',')\n",
    "\n",
    "# Creating a csv writer for the processed file. \n",
    "csv_writer = csv.writer(output_file, delimiter = ',')\n",
    "\n",
    "# The unique values of the column, CATEGORY which we will use for merging process. \n",
    "categories = ['ART_AND_DESIGN', 'AUTO_AND_VEHICLES', 'BEAUTY',\n",
    "       'BOOKS_AND_REFERENCE', 'BUSINESS', 'COMICS', 'COMMUNICATION',\n",
    "       'DATING', 'EDUCATION', 'ENTERTAINMENT', 'EVENTS', 'FINANCE',\n",
    "       'FOOD_AND_DRINK', 'HEALTH_AND_FITNESS', 'HOUSE_AND_HOME',\n",
    "       'LIBRARIES_AND_DEMO', 'LIFESTYLE', 'GAME', 'FAMILY', 'MEDICAL',\n",
    "       'SOCIAL', 'SHOPPING', 'PHOTOGRAPHY', 'SPORTS', 'TRAVEL_AND_LOCAL',\n",
    "       'TOOLS', 'PERSONALIZATION', 'PRODUCTIVITY', 'PARENTING', 'WEATHER',\n",
    "       'VIDEO_PLAYERS', 'NEWS_AND_MAGAZINES', 'MAPS_AND_NAVIGATION']\n",
    "\n",
    "# This variable is for the header to be excluded from the above process. \n",
    "row_counter = 0\n",
    "\n",
    "for row in csv_reader:\n",
    "\n",
    "    # The below code will exclude the first row which is the header and it will write the header to the processed file as it is. \n",
    "    if not row_counter:\n",
    "        csv_writer.writerow(row)\n",
    "        row_counter = 1\n",
    "        continue\n",
    "\n",
    "    # target variable for the processed file. \n",
    "    new_row = []\n",
    "\n",
    "    flag = False\n",
    "\n",
    "    # The idea is as follows:\n",
    "    # Take all the column values and create them as a single value to be placed in the first column until we reach the CATEGORY.\n",
    "    # The moment we reach category, we will include all the column values as it is into the dataset without any change. \n",
    "    for value in row:\n",
    "        if (value not in categories) and (not flag):\n",
    "            if new_row == []:\n",
    "                new_row.append(value)\n",
    "            else:\n",
    "                new_row[0] += value\n",
    "        else:\n",
    "            new_row.append(value)\n",
    "            flag = True\n",
    "    \n",
    "    new_row[-1] = new_row[-1].strip()\n",
    "\n",
    "    csv_writer.writerow(new_row)\n",
    "\n",
    "# cleanup for open files. \n",
    "input_file.close()\n",
    "output_file.close()"
   ]
  },
  {
   "cell_type": "markdown",
   "metadata": {},
   "source": [
    "Now we are going to read the dataset_clean.csv file into our Pandas DataFrame. "
   ]
  },
  {
   "cell_type": "code",
   "execution_count": 5,
   "metadata": {},
   "outputs": [],
   "source": [
    "# The seperator is default ',', and the encoding chosen is utf8 for special characters present in the file. \n",
    "df = pd.read_csv(r'.\\processed\\dataset_clean.csv', encoding = 'utf8', na_values = ['inf', np.inf])"
   ]
  },
  {
   "cell_type": "markdown",
   "metadata": {},
   "source": [
    "Checking to see if the data has been loaded correctly or not. "
   ]
  },
  {
   "cell_type": "code",
   "execution_count": 6,
   "metadata": {},
   "outputs": [
    {
     "data": {
      "text/html": [
       "<div>\n",
       "<style scoped>\n",
       "    .dataframe tbody tr th:only-of-type {\n",
       "        vertical-align: middle;\n",
       "    }\n",
       "\n",
       "    .dataframe tbody tr th {\n",
       "        vertical-align: top;\n",
       "    }\n",
       "\n",
       "    .dataframe thead th {\n",
       "        text-align: right;\n",
       "    }\n",
       "</style>\n",
       "<table border=\"1\" class=\"dataframe\">\n",
       "  <thead>\n",
       "    <tr style=\"text-align: right;\">\n",
       "      <th></th>\n",
       "      <th>App</th>\n",
       "      <th>Category</th>\n",
       "      <th>Rating</th>\n",
       "      <th>Reviews</th>\n",
       "      <th>Size</th>\n",
       "      <th>Installs</th>\n",
       "      <th>Type</th>\n",
       "      <th>Price</th>\n",
       "      <th>Content Rating</th>\n",
       "      <th>Genres</th>\n",
       "      <th>Last Updated</th>\n",
       "      <th>Current Ver</th>\n",
       "      <th>Android Ver\\t\\t\\t\\t</th>\n",
       "    </tr>\n",
       "  </thead>\n",
       "  <tbody>\n",
       "    <tr>\n",
       "      <th>0</th>\n",
       "      <td>Photo Editor &amp; Candy Camera &amp; Grid &amp; ScrapBook</td>\n",
       "      <td>ART_AND_DESIGN</td>\n",
       "      <td>4.1</td>\n",
       "      <td>159</td>\n",
       "      <td>19M</td>\n",
       "      <td>10,000+</td>\n",
       "      <td>Free</td>\n",
       "      <td>0</td>\n",
       "      <td>Everyone</td>\n",
       "      <td>Art &amp; Design</td>\n",
       "      <td>January 7, 2018</td>\n",
       "      <td>1.0.0</td>\n",
       "      <td>4.0.3 and up</td>\n",
       "    </tr>\n",
       "    <tr>\n",
       "      <th>1</th>\n",
       "      <td>Coloring book moana</td>\n",
       "      <td>ART_AND_DESIGN</td>\n",
       "      <td>3.9</td>\n",
       "      <td>967</td>\n",
       "      <td>14M</td>\n",
       "      <td>500,000+</td>\n",
       "      <td>Free</td>\n",
       "      <td>0</td>\n",
       "      <td>Everyone</td>\n",
       "      <td>Art &amp; Design;Pretend Play</td>\n",
       "      <td>January 15, 2018</td>\n",
       "      <td>2.0.0</td>\n",
       "      <td>4.0.3 and up</td>\n",
       "    </tr>\n",
       "    <tr>\n",
       "      <th>2</th>\n",
       "      <td>U Launcher Lite â€“ FREE Live Cool Themes Hide...</td>\n",
       "      <td>ART_AND_DESIGN</td>\n",
       "      <td>4.7</td>\n",
       "      <td>87510</td>\n",
       "      <td>8.7M</td>\n",
       "      <td>5,000,000+</td>\n",
       "      <td>Free</td>\n",
       "      <td>0</td>\n",
       "      <td>Everyone</td>\n",
       "      <td>Art &amp; Design</td>\n",
       "      <td>August 1, 2018</td>\n",
       "      <td>1.2.4</td>\n",
       "      <td>4.0.3 and up</td>\n",
       "    </tr>\n",
       "    <tr>\n",
       "      <th>3</th>\n",
       "      <td>Sketch - Draw &amp; Paint</td>\n",
       "      <td>ART_AND_DESIGN</td>\n",
       "      <td>4.5</td>\n",
       "      <td>215644</td>\n",
       "      <td>25M</td>\n",
       "      <td>50,000,000+</td>\n",
       "      <td>Free</td>\n",
       "      <td>0</td>\n",
       "      <td>Teen</td>\n",
       "      <td>Art &amp; Design</td>\n",
       "      <td>June 8, 2018</td>\n",
       "      <td>Varies with device</td>\n",
       "      <td>4.2 and up</td>\n",
       "    </tr>\n",
       "    <tr>\n",
       "      <th>4</th>\n",
       "      <td>Pixel Draw - Number Art Coloring Book</td>\n",
       "      <td>ART_AND_DESIGN</td>\n",
       "      <td>4.3</td>\n",
       "      <td>967</td>\n",
       "      <td>2.8M</td>\n",
       "      <td>100,000+</td>\n",
       "      <td>Free</td>\n",
       "      <td>0</td>\n",
       "      <td>Everyone</td>\n",
       "      <td>Art &amp; Design;Creativity</td>\n",
       "      <td>June 20, 2018</td>\n",
       "      <td>1.1</td>\n",
       "      <td>4.4 and up</td>\n",
       "    </tr>\n",
       "  </tbody>\n",
       "</table>\n",
       "</div>"
      ],
      "text/plain": [
       "                                                 App        Category  Rating  \\\n",
       "0     Photo Editor & Candy Camera & Grid & ScrapBook  ART_AND_DESIGN     4.1   \n",
       "1                                Coloring book moana  ART_AND_DESIGN     3.9   \n",
       "2  U Launcher Lite â€“ FREE Live Cool Themes Hide...  ART_AND_DESIGN     4.7   \n",
       "3                              Sketch - Draw & Paint  ART_AND_DESIGN     4.5   \n",
       "4              Pixel Draw - Number Art Coloring Book  ART_AND_DESIGN     4.3   \n",
       "\n",
       "   Reviews  Size     Installs  Type Price Content Rating  \\\n",
       "0      159   19M      10,000+  Free     0       Everyone   \n",
       "1      967   14M     500,000+  Free     0       Everyone   \n",
       "2    87510  8.7M   5,000,000+  Free     0       Everyone   \n",
       "3   215644   25M  50,000,000+  Free     0           Teen   \n",
       "4      967  2.8M     100,000+  Free     0       Everyone   \n",
       "\n",
       "                      Genres      Last Updated         Current Ver  \\\n",
       "0               Art & Design   January 7, 2018               1.0.0   \n",
       "1  Art & Design;Pretend Play  January 15, 2018               2.0.0   \n",
       "2               Art & Design    August 1, 2018               1.2.4   \n",
       "3               Art & Design      June 8, 2018  Varies with device   \n",
       "4    Art & Design;Creativity     June 20, 2018                 1.1   \n",
       "\n",
       "  Android Ver\\t\\t\\t\\t  \n",
       "0        4.0.3 and up  \n",
       "1        4.0.3 and up  \n",
       "2        4.0.3 and up  \n",
       "3          4.2 and up  \n",
       "4          4.4 and up  "
      ]
     },
     "execution_count": 6,
     "metadata": {},
     "output_type": "execute_result"
    }
   ],
   "source": [
    "df.head()"
   ]
  },
  {
   "cell_type": "code",
   "execution_count": 7,
   "metadata": {},
   "outputs": [
    {
     "data": {
      "text/html": [
       "<div>\n",
       "<style scoped>\n",
       "    .dataframe tbody tr th:only-of-type {\n",
       "        vertical-align: middle;\n",
       "    }\n",
       "\n",
       "    .dataframe tbody tr th {\n",
       "        vertical-align: top;\n",
       "    }\n",
       "\n",
       "    .dataframe thead th {\n",
       "        text-align: right;\n",
       "    }\n",
       "</style>\n",
       "<table border=\"1\" class=\"dataframe\">\n",
       "  <thead>\n",
       "    <tr style=\"text-align: right;\">\n",
       "      <th></th>\n",
       "      <th>App</th>\n",
       "      <th>Category</th>\n",
       "      <th>Rating</th>\n",
       "      <th>Reviews</th>\n",
       "      <th>Size</th>\n",
       "      <th>Installs</th>\n",
       "      <th>Type</th>\n",
       "      <th>Price</th>\n",
       "      <th>Content Rating</th>\n",
       "      <th>Genres</th>\n",
       "      <th>Last Updated</th>\n",
       "      <th>Current Ver</th>\n",
       "      <th>Android Ver\\t\\t\\t\\t</th>\n",
       "    </tr>\n",
       "  </thead>\n",
       "  <tbody>\n",
       "    <tr>\n",
       "      <th>10835</th>\n",
       "      <td>Sya9a Maroc - FR</td>\n",
       "      <td>FAMILY</td>\n",
       "      <td>4.5</td>\n",
       "      <td>38</td>\n",
       "      <td>53M</td>\n",
       "      <td>5,000+</td>\n",
       "      <td>Free</td>\n",
       "      <td>0</td>\n",
       "      <td>Everyone</td>\n",
       "      <td>Education</td>\n",
       "      <td>July 25, 2017</td>\n",
       "      <td>1.48</td>\n",
       "      <td>4.1 and up</td>\n",
       "    </tr>\n",
       "    <tr>\n",
       "      <th>10836</th>\n",
       "      <td>Fr. Mike Schmitz Audio Teachings</td>\n",
       "      <td>FAMILY</td>\n",
       "      <td>5.0</td>\n",
       "      <td>4</td>\n",
       "      <td>3.6M</td>\n",
       "      <td>100+</td>\n",
       "      <td>Free</td>\n",
       "      <td>0</td>\n",
       "      <td>Everyone</td>\n",
       "      <td>Education</td>\n",
       "      <td>July 6, 2018</td>\n",
       "      <td>1.0</td>\n",
       "      <td>4.1 and up</td>\n",
       "    </tr>\n",
       "    <tr>\n",
       "      <th>10837</th>\n",
       "      <td>Parkinson Exercices FR</td>\n",
       "      <td>MEDICAL</td>\n",
       "      <td>NaN</td>\n",
       "      <td>3</td>\n",
       "      <td>9.5M</td>\n",
       "      <td>1,000+</td>\n",
       "      <td>Free</td>\n",
       "      <td>0</td>\n",
       "      <td>Everyone</td>\n",
       "      <td>Medical</td>\n",
       "      <td>January 20, 2017</td>\n",
       "      <td>1.0</td>\n",
       "      <td>2.2 and up</td>\n",
       "    </tr>\n",
       "    <tr>\n",
       "      <th>10838</th>\n",
       "      <td>The SCP Foundation DB fr nn5n</td>\n",
       "      <td>BOOKS_AND_REFERENCE</td>\n",
       "      <td>4.5</td>\n",
       "      <td>114</td>\n",
       "      <td>Varies with device</td>\n",
       "      <td>1,000+</td>\n",
       "      <td>Free</td>\n",
       "      <td>0</td>\n",
       "      <td>Mature 17+</td>\n",
       "      <td>Books &amp; Reference</td>\n",
       "      <td>January 19, 2015</td>\n",
       "      <td>Varies with device</td>\n",
       "      <td>Varies with device</td>\n",
       "    </tr>\n",
       "    <tr>\n",
       "      <th>10839</th>\n",
       "      <td>iHoroscope - 2018 Daily Horoscope &amp; Astrology</td>\n",
       "      <td>LIFESTYLE</td>\n",
       "      <td>4.5</td>\n",
       "      <td>398307</td>\n",
       "      <td>19M</td>\n",
       "      <td>10,000,000+</td>\n",
       "      <td>Free</td>\n",
       "      <td>0</td>\n",
       "      <td>Everyone</td>\n",
       "      <td>Lifestyle</td>\n",
       "      <td>July 25, 2018</td>\n",
       "      <td>Varies with device</td>\n",
       "      <td>Varies with device</td>\n",
       "    </tr>\n",
       "  </tbody>\n",
       "</table>\n",
       "</div>"
      ],
      "text/plain": [
       "                                                 App             Category  \\\n",
       "10835                               Sya9a Maroc - FR               FAMILY   \n",
       "10836               Fr. Mike Schmitz Audio Teachings               FAMILY   \n",
       "10837                         Parkinson Exercices FR              MEDICAL   \n",
       "10838                  The SCP Foundation DB fr nn5n  BOOKS_AND_REFERENCE   \n",
       "10839  iHoroscope - 2018 Daily Horoscope & Astrology            LIFESTYLE   \n",
       "\n",
       "       Rating  Reviews                Size     Installs  Type Price  \\\n",
       "10835     4.5       38                 53M       5,000+  Free     0   \n",
       "10836     5.0        4                3.6M         100+  Free     0   \n",
       "10837     NaN        3                9.5M       1,000+  Free     0   \n",
       "10838     4.5      114  Varies with device       1,000+  Free     0   \n",
       "10839     4.5   398307                 19M  10,000,000+  Free     0   \n",
       "\n",
       "      Content Rating             Genres      Last Updated         Current Ver  \\\n",
       "10835       Everyone          Education     July 25, 2017                1.48   \n",
       "10836       Everyone          Education      July 6, 2018                 1.0   \n",
       "10837       Everyone            Medical  January 20, 2017                 1.0   \n",
       "10838     Mature 17+  Books & Reference  January 19, 2015  Varies with device   \n",
       "10839       Everyone          Lifestyle     July 25, 2018  Varies with device   \n",
       "\n",
       "      Android Ver\\t\\t\\t\\t  \n",
       "10835          4.1 and up  \n",
       "10836          4.1 and up  \n",
       "10837          2.2 and up  \n",
       "10838  Varies with device  \n",
       "10839  Varies with device  "
      ]
     },
     "execution_count": 7,
     "metadata": {},
     "output_type": "execute_result"
    }
   ],
   "source": [
    "df.tail()"
   ]
  },
  {
   "cell_type": "markdown",
   "metadata": {},
   "source": [
    "Checking the columns. "
   ]
  },
  {
   "cell_type": "code",
   "execution_count": 8,
   "metadata": {},
   "outputs": [
    {
     "data": {
      "text/plain": [
       "Index(['App', 'Category', 'Rating', 'Reviews', 'Size', 'Installs', 'Type',\n",
       "       'Price', 'Content Rating', 'Genres', 'Last Updated', 'Current Ver',\n",
       "       'Android Ver\\t\\t\\t\\t'],\n",
       "      dtype='object')"
      ]
     },
     "execution_count": 8,
     "metadata": {},
     "output_type": "execute_result"
    }
   ],
   "source": [
    "df.columns"
   ]
  },
  {
   "cell_type": "markdown",
   "metadata": {},
   "source": [
    "We have extra tab characters as part of the columns, which can be removed using the following code. "
   ]
  },
  {
   "cell_type": "code",
   "execution_count": 9,
   "metadata": {},
   "outputs": [],
   "source": [
    "df.columns = df.columns.str.strip()"
   ]
  },
  {
   "cell_type": "code",
   "execution_count": 10,
   "metadata": {},
   "outputs": [
    {
     "data": {
      "text/plain": [
       "Index(['App', 'Category', 'Rating', 'Reviews', 'Size', 'Installs', 'Type',\n",
       "       'Price', 'Content Rating', 'Genres', 'Last Updated', 'Current Ver',\n",
       "       'Android Ver'],\n",
       "      dtype='object')"
      ]
     },
     "execution_count": 10,
     "metadata": {},
     "output_type": "execute_result"
    }
   ],
   "source": [
    "df.columns"
   ]
  },
  {
   "cell_type": "code",
   "execution_count": 11,
   "metadata": {},
   "outputs": [
    {
     "data": {
      "text/plain": [
       "(10840, 13)"
      ]
     },
     "execution_count": 11,
     "metadata": {},
     "output_type": "execute_result"
    }
   ],
   "source": [
    "df.shape"
   ]
  },
  {
   "cell_type": "markdown",
   "metadata": {},
   "source": [
    "We have in total of 10840 rows and 13 columns in the dataset. "
   ]
  },
  {
   "cell_type": "markdown",
   "metadata": {},
   "source": [
    "Checking on the `info()` method to see the metadata. "
   ]
  },
  {
   "cell_type": "code",
   "execution_count": 12,
   "metadata": {},
   "outputs": [
    {
     "name": "stdout",
     "output_type": "stream",
     "text": [
      "<class 'pandas.core.frame.DataFrame'>\n",
      "RangeIndex: 10840 entries, 0 to 10839\n",
      "Data columns (total 13 columns):\n",
      "App               10840 non-null object\n",
      "Category          10840 non-null object\n",
      "Rating            9366 non-null float64\n",
      "Reviews           10840 non-null int64\n",
      "Size              10840 non-null object\n",
      "Installs          10840 non-null object\n",
      "Type              10839 non-null object\n",
      "Price             10840 non-null object\n",
      "Content Rating    10840 non-null object\n",
      "Genres            10840 non-null object\n",
      "Last Updated      10840 non-null object\n",
      "Current Ver       10832 non-null object\n",
      "Android Ver       10838 non-null object\n",
      "dtypes: float64(1), int64(1), object(11)\n",
      "memory usage: 1.1+ MB\n"
     ]
    }
   ],
   "source": [
    "df.info()"
   ]
  },
  {
   "cell_type": "markdown",
   "metadata": {},
   "source": [
    "#### Memory Usage\n",
    "\n",
    "Let's try and see if we can reduce the memory usage of this particular dataset. "
   ]
  },
  {
   "cell_type": "code",
   "execution_count": 13,
   "metadata": {},
   "outputs": [
    {
     "data": {
      "text/plain": [
       "Index                128\n",
       "App               891465\n",
       "Category          715705\n",
       "Rating             86720\n",
       "Reviews            86720\n",
       "Size              679727\n",
       "Installs          703724\n",
       "Type              661211\n",
       "Price             672192\n",
       "Content Rating    702441\n",
       "Genres            730855\n",
       "Last Updated      768299\n",
       "Current Ver       692502\n",
       "Android Ver       740703\n",
       "dtype: int64"
      ]
     },
     "execution_count": 13,
     "metadata": {},
     "output_type": "execute_result"
    }
   ],
   "source": [
    "df.memory_usage(deep = True)"
   ]
  },
  {
   "cell_type": "markdown",
   "metadata": {},
   "source": [
    "There are some categorical columns which we can check to see if we can convert them info 'pd.Categorical' type. "
   ]
  },
  {
   "cell_type": "code",
   "execution_count": 14,
   "metadata": {},
   "outputs": [
    {
     "data": {
      "text/plain": [
       "33"
      ]
     },
     "execution_count": 14,
     "metadata": {},
     "output_type": "execute_result"
    }
   ],
   "source": [
    "df['Category'].nunique()"
   ]
  },
  {
   "cell_type": "markdown",
   "metadata": {},
   "source": [
    "The number of values in `Category` is quite less than the total number of rows, hence we can convert this into categorical column. "
   ]
  },
  {
   "cell_type": "code",
   "execution_count": 15,
   "metadata": {},
   "outputs": [],
   "source": [
    "df['Category'] = df['Category'].astype('category')"
   ]
  },
  {
   "cell_type": "code",
   "execution_count": 16,
   "metadata": {},
   "outputs": [
    {
     "data": {
      "text/plain": [
       "Index                128\n",
       "App               891465\n",
       "Category           14360\n",
       "Rating             86720\n",
       "Reviews            86720\n",
       "Size              679727\n",
       "Installs          703724\n",
       "Type              661211\n",
       "Price             672192\n",
       "Content Rating    702441\n",
       "Genres            730855\n",
       "Last Updated      768299\n",
       "Current Ver       692502\n",
       "Android Ver       740703\n",
       "dtype: int64"
      ]
     },
     "execution_count": 16,
     "metadata": {},
     "output_type": "execute_result"
    }
   ],
   "source": [
    "df.memory_usage(deep = True)"
   ]
  },
  {
   "cell_type": "markdown",
   "metadata": {},
   "source": [
    "Similarly the column, `Type` can be converted into a categorical column. "
   ]
  },
  {
   "cell_type": "code",
   "execution_count": 17,
   "metadata": {},
   "outputs": [],
   "source": [
    "df['Type'] = df['Type'].astype('category')"
   ]
  },
  {
   "cell_type": "code",
   "execution_count": 18,
   "metadata": {},
   "outputs": [
    {
     "data": {
      "text/plain": [
       "Index                128\n",
       "App               891465\n",
       "Category           14360\n",
       "Rating             86720\n",
       "Reviews            86720\n",
       "Size              679727\n",
       "Installs          703724\n",
       "Type               11042\n",
       "Price             672192\n",
       "Content Rating    702441\n",
       "Genres            730855\n",
       "Last Updated      768299\n",
       "Current Ver       692502\n",
       "Android Ver       740703\n",
       "dtype: int64"
      ]
     },
     "execution_count": 18,
     "metadata": {},
     "output_type": "execute_result"
    }
   ],
   "source": [
    "df.memory_usage(deep = True)"
   ]
  },
  {
   "cell_type": "markdown",
   "metadata": {},
   "source": [
    "Let's check for the column `Content Rating`. "
   ]
  },
  {
   "cell_type": "code",
   "execution_count": 19,
   "metadata": {},
   "outputs": [
    {
     "data": {
      "text/plain": [
       "6"
      ]
     },
     "execution_count": 19,
     "metadata": {},
     "output_type": "execute_result"
    }
   ],
   "source": [
    "df['Content Rating'].nunique()"
   ]
  },
  {
   "cell_type": "markdown",
   "metadata": {},
   "source": [
    "Since we have only 6 values, it is a good candidate to convert this into categorical value. "
   ]
  },
  {
   "cell_type": "code",
   "execution_count": 20,
   "metadata": {},
   "outputs": [],
   "source": [
    "df['Content Rating'] = df['Content Rating'].astype('category')"
   ]
  },
  {
   "cell_type": "code",
   "execution_count": 21,
   "metadata": {},
   "outputs": [
    {
     "data": {
      "text/plain": [
       "Index                128\n",
       "App               891465\n",
       "Category           14360\n",
       "Rating             86720\n",
       "Reviews            86720\n",
       "Size              679727\n",
       "Installs          703724\n",
       "Type               11042\n",
       "Price             672192\n",
       "Content Rating     11398\n",
       "Genres            730855\n",
       "Last Updated      768299\n",
       "Current Ver       692502\n",
       "Android Ver       740703\n",
       "dtype: int64"
      ]
     },
     "execution_count": 21,
     "metadata": {},
     "output_type": "execute_result"
    }
   ],
   "source": [
    "df.memory_usage(deep = True)"
   ]
  },
  {
   "cell_type": "markdown",
   "metadata": {},
   "source": [
    "Let's see for the column, `Genres`. "
   ]
  },
  {
   "cell_type": "code",
   "execution_count": 22,
   "metadata": {},
   "outputs": [
    {
     "data": {
      "text/plain": [
       "119"
      ]
     },
     "execution_count": 22,
     "metadata": {},
     "output_type": "execute_result"
    }
   ],
   "source": [
    "df['Genres'].nunique()"
   ]
  },
  {
   "cell_type": "markdown",
   "metadata": {},
   "source": [
    "We have 119 values, and this can be converted into a category column. "
   ]
  },
  {
   "cell_type": "code",
   "execution_count": 23,
   "metadata": {},
   "outputs": [],
   "source": [
    "df['Genres'] = df['Genres'].astype('category')"
   ]
  },
  {
   "cell_type": "code",
   "execution_count": 24,
   "metadata": {},
   "outputs": [
    {
     "data": {
      "text/plain": [
       "Index                128\n",
       "App               891465\n",
       "Category           14360\n",
       "Rating             86720\n",
       "Reviews            86720\n",
       "Size              679727\n",
       "Installs          703724\n",
       "Type               11042\n",
       "Price             672192\n",
       "Content Rating     11398\n",
       "Genres             24856\n",
       "Last Updated      768299\n",
       "Current Ver       692502\n",
       "Android Ver       740703\n",
       "dtype: int64"
      ]
     },
     "execution_count": 24,
     "metadata": {},
     "output_type": "execute_result"
    }
   ],
   "source": [
    "df.memory_usage(deep = True)"
   ]
  },
  {
   "cell_type": "code",
   "execution_count": 25,
   "metadata": {},
   "outputs": [
    {
     "name": "stdout",
     "output_type": "stream",
     "text": [
      "<class 'pandas.core.frame.DataFrame'>\n",
      "RangeIndex: 10840 entries, 0 to 10839\n",
      "Data columns (total 13 columns):\n",
      "App               10840 non-null object\n",
      "Category          10840 non-null category\n",
      "Rating            9366 non-null float64\n",
      "Reviews           10840 non-null int64\n",
      "Size              10840 non-null object\n",
      "Installs          10840 non-null object\n",
      "Type              10839 non-null category\n",
      "Price             10840 non-null object\n",
      "Content Rating    10840 non-null category\n",
      "Genres            10840 non-null category\n",
      "Last Updated      10840 non-null object\n",
      "Current Ver       10832 non-null object\n",
      "Android Ver       10838 non-null object\n",
      "dtypes: category(4), float64(1), int64(1), object(7)\n",
      "memory usage: 812.4+ KB\n"
     ]
    }
   ],
   "source": [
    "df.info()"
   ]
  },
  {
   "cell_type": "markdown",
   "metadata": {},
   "source": [
    "The memory usage of the file has been reduced to 800+ KB from 1.1 MB. "
   ]
  },
  {
   "cell_type": "markdown",
   "metadata": {},
   "source": [
    "Let's check the `reviews` column to see if we can get any memory improvement from there. "
   ]
  },
  {
   "cell_type": "code",
   "execution_count": 26,
   "metadata": {},
   "outputs": [
    {
     "data": {
      "text/plain": [
       "(0, 78158306)"
      ]
     },
     "execution_count": 26,
     "metadata": {},
     "output_type": "execute_result"
    }
   ],
   "source": [
    "df['Reviews'].min(), df['Reviews'].max()"
   ]
  },
  {
   "cell_type": "markdown",
   "metadata": {},
   "source": [
    "This can be converted into a float16 datatype. "
   ]
  },
  {
   "cell_type": "code",
   "execution_count": 27,
   "metadata": {},
   "outputs": [],
   "source": [
    "df['Reviews'] = df['Reviews'].astype('float16')"
   ]
  },
  {
   "cell_type": "markdown",
   "metadata": {},
   "source": [
    "The `Ratings` column can also be converted into `float16` datatype. "
   ]
  },
  {
   "cell_type": "code",
   "execution_count": 28,
   "metadata": {},
   "outputs": [],
   "source": [
    "df['Rating'] = df['Rating'].astype('float16')"
   ]
  },
  {
   "cell_type": "code",
   "execution_count": 29,
   "metadata": {},
   "outputs": [
    {
     "name": "stdout",
     "output_type": "stream",
     "text": [
      "<class 'pandas.core.frame.DataFrame'>\n",
      "RangeIndex: 10840 entries, 0 to 10839\n",
      "Data columns (total 13 columns):\n",
      "App               10840 non-null object\n",
      "Category          10840 non-null category\n",
      "Rating            9366 non-null float16\n",
      "Reviews           10840 non-null float16\n",
      "Size              10840 non-null object\n",
      "Installs          10840 non-null object\n",
      "Type              10839 non-null category\n",
      "Price             10840 non-null object\n",
      "Content Rating    10840 non-null category\n",
      "Genres            10840 non-null category\n",
      "Last Updated      10840 non-null object\n",
      "Current Ver       10832 non-null object\n",
      "Android Ver       10838 non-null object\n",
      "dtypes: category(4), float16(2), object(7)\n",
      "memory usage: 685.4+ KB\n"
     ]
    }
   ],
   "source": [
    "df.info()"
   ]
  },
  {
   "cell_type": "markdown",
   "metadata": {},
   "source": [
    "The memory of the dataset has been reduced to 685 KB. "
   ]
  },
  {
   "cell_type": "markdown",
   "metadata": {},
   "source": [
    "The `price` column has been assigned a object type by default. This would have to be changed to a float. Before we make the changes, the price column has the `$` sign in it, which would need to be removed for performing the analysis. "
   ]
  },
  {
   "cell_type": "code",
   "execution_count": 30,
   "metadata": {},
   "outputs": [],
   "source": [
    "df['Price'] = df['Price'].str.replace('$', '')\n",
    "df['Price'] = df['Price'].astype('float32')"
   ]
  },
  {
   "cell_type": "code",
   "execution_count": 31,
   "metadata": {},
   "outputs": [
    {
     "name": "stdout",
     "output_type": "stream",
     "text": [
      "<class 'pandas.core.frame.DataFrame'>\n",
      "RangeIndex: 10840 entries, 0 to 10839\n",
      "Data columns (total 13 columns):\n",
      "App               10840 non-null object\n",
      "Category          10840 non-null category\n",
      "Rating            9366 non-null float16\n",
      "Reviews           10840 non-null float16\n",
      "Size              10840 non-null object\n",
      "Installs          10840 non-null object\n",
      "Type              10839 non-null category\n",
      "Price             10840 non-null float32\n",
      "Content Rating    10840 non-null category\n",
      "Genres            10840 non-null category\n",
      "Last Updated      10840 non-null object\n",
      "Current Ver       10832 non-null object\n",
      "Android Ver       10838 non-null object\n",
      "dtypes: category(4), float16(2), float32(1), object(6)\n",
      "memory usage: 643.0+ KB\n"
     ]
    }
   ],
   "source": [
    "df.info()"
   ]
  },
  {
   "cell_type": "markdown",
   "metadata": {},
   "source": [
    "#### Checking for any duplicate values in the dataset"
   ]
  },
  {
   "cell_type": "code",
   "execution_count": 32,
   "metadata": {},
   "outputs": [
    {
     "data": {
      "text/html": [
       "<div>\n",
       "<style scoped>\n",
       "    .dataframe tbody tr th:only-of-type {\n",
       "        vertical-align: middle;\n",
       "    }\n",
       "\n",
       "    .dataframe tbody tr th {\n",
       "        vertical-align: top;\n",
       "    }\n",
       "\n",
       "    .dataframe thead th {\n",
       "        text-align: right;\n",
       "    }\n",
       "</style>\n",
       "<table border=\"1\" class=\"dataframe\">\n",
       "  <thead>\n",
       "    <tr style=\"text-align: right;\">\n",
       "      <th></th>\n",
       "      <th>App</th>\n",
       "      <th>Category</th>\n",
       "      <th>Rating</th>\n",
       "      <th>Reviews</th>\n",
       "      <th>Size</th>\n",
       "      <th>Installs</th>\n",
       "      <th>Type</th>\n",
       "      <th>Price</th>\n",
       "      <th>Content Rating</th>\n",
       "      <th>Genres</th>\n",
       "      <th>Last Updated</th>\n",
       "      <th>Current Ver</th>\n",
       "      <th>Android Ver</th>\n",
       "    </tr>\n",
       "  </thead>\n",
       "  <tbody>\n",
       "    <tr>\n",
       "      <th>229</th>\n",
       "      <td>Quick PDF Scanner + OCR FREE</td>\n",
       "      <td>BUSINESS</td>\n",
       "      <td>4.199219</td>\n",
       "      <td>inf</td>\n",
       "      <td>Varies with device</td>\n",
       "      <td>5,000,000+</td>\n",
       "      <td>Free</td>\n",
       "      <td>0.0</td>\n",
       "      <td>Everyone</td>\n",
       "      <td>Business</td>\n",
       "      <td>February 26, 2018</td>\n",
       "      <td>Varies with device</td>\n",
       "      <td>4.0.3 and up</td>\n",
       "    </tr>\n",
       "    <tr>\n",
       "      <th>236</th>\n",
       "      <td>Box</td>\n",
       "      <td>BUSINESS</td>\n",
       "      <td>4.199219</td>\n",
       "      <td>inf</td>\n",
       "      <td>Varies with device</td>\n",
       "      <td>10,000,000+</td>\n",
       "      <td>Free</td>\n",
       "      <td>0.0</td>\n",
       "      <td>Everyone</td>\n",
       "      <td>Business</td>\n",
       "      <td>July 31, 2018</td>\n",
       "      <td>Varies with device</td>\n",
       "      <td>Varies with device</td>\n",
       "    </tr>\n",
       "    <tr>\n",
       "      <th>239</th>\n",
       "      <td>Google My Business</td>\n",
       "      <td>BUSINESS</td>\n",
       "      <td>4.398438</td>\n",
       "      <td>inf</td>\n",
       "      <td>Varies with device</td>\n",
       "      <td>5,000,000+</td>\n",
       "      <td>Free</td>\n",
       "      <td>0.0</td>\n",
       "      <td>Everyone</td>\n",
       "      <td>Business</td>\n",
       "      <td>July 24, 2018</td>\n",
       "      <td>2.19.0.204537701</td>\n",
       "      <td>4.4 and up</td>\n",
       "    </tr>\n",
       "    <tr>\n",
       "      <th>256</th>\n",
       "      <td>ZOOM Cloud Meetings</td>\n",
       "      <td>BUSINESS</td>\n",
       "      <td>4.398438</td>\n",
       "      <td>31616.0</td>\n",
       "      <td>37M</td>\n",
       "      <td>10,000,000+</td>\n",
       "      <td>Free</td>\n",
       "      <td>0.0</td>\n",
       "      <td>Everyone</td>\n",
       "      <td>Business</td>\n",
       "      <td>July 20, 2018</td>\n",
       "      <td>4.1.28165.0716</td>\n",
       "      <td>4.0 and up</td>\n",
       "    </tr>\n",
       "    <tr>\n",
       "      <th>261</th>\n",
       "      <td>join.me - Simple Meetings</td>\n",
       "      <td>BUSINESS</td>\n",
       "      <td>4.000000</td>\n",
       "      <td>6988.0</td>\n",
       "      <td>Varies with device</td>\n",
       "      <td>1,000,000+</td>\n",
       "      <td>Free</td>\n",
       "      <td>0.0</td>\n",
       "      <td>Everyone</td>\n",
       "      <td>Business</td>\n",
       "      <td>July 16, 2018</td>\n",
       "      <td>4.3.0.508</td>\n",
       "      <td>4.4 and up</td>\n",
       "    </tr>\n",
       "    <tr>\n",
       "      <th>...</th>\n",
       "      <td>...</td>\n",
       "      <td>...</td>\n",
       "      <td>...</td>\n",
       "      <td>...</td>\n",
       "      <td>...</td>\n",
       "      <td>...</td>\n",
       "      <td>...</td>\n",
       "      <td>...</td>\n",
       "      <td>...</td>\n",
       "      <td>...</td>\n",
       "      <td>...</td>\n",
       "      <td>...</td>\n",
       "      <td>...</td>\n",
       "    </tr>\n",
       "    <tr>\n",
       "      <th>10213</th>\n",
       "      <td>Who Viewed My Facebook Profile - Stalkers Visi...</td>\n",
       "      <td>SOCIAL</td>\n",
       "      <td>4.601562</td>\n",
       "      <td>inf</td>\n",
       "      <td>9.9M</td>\n",
       "      <td>5,000,000+</td>\n",
       "      <td>Free</td>\n",
       "      <td>0.0</td>\n",
       "      <td>Everyone</td>\n",
       "      <td>Social</td>\n",
       "      <td>June 24, 2018</td>\n",
       "      <td>4.1.1</td>\n",
       "      <td>4.0.3 and up</td>\n",
       "    </tr>\n",
       "    <tr>\n",
       "      <th>10327</th>\n",
       "      <td>Garena Free Fire</td>\n",
       "      <td>GAME</td>\n",
       "      <td>4.500000</td>\n",
       "      <td>inf</td>\n",
       "      <td>53M</td>\n",
       "      <td>100,000,000+</td>\n",
       "      <td>Free</td>\n",
       "      <td>0.0</td>\n",
       "      <td>Teen</td>\n",
       "      <td>Action</td>\n",
       "      <td>August 3, 2018</td>\n",
       "      <td>1.21.0</td>\n",
       "      <td>4.0.3 and up</td>\n",
       "    </tr>\n",
       "    <tr>\n",
       "      <th>10645</th>\n",
       "      <td>Podcast App: Free &amp; Offline Podcasts by Player FM</td>\n",
       "      <td>NEWS_AND_MAGAZINES</td>\n",
       "      <td>4.601562</td>\n",
       "      <td>inf</td>\n",
       "      <td>19M</td>\n",
       "      <td>1,000,000+</td>\n",
       "      <td>Free</td>\n",
       "      <td>0.0</td>\n",
       "      <td>Teen</td>\n",
       "      <td>News &amp; Magazines</td>\n",
       "      <td>July 25, 2018</td>\n",
       "      <td>4.1.0.72</td>\n",
       "      <td>4.0 and up</td>\n",
       "    </tr>\n",
       "    <tr>\n",
       "      <th>10646</th>\n",
       "      <td>Motorola FM Radio</td>\n",
       "      <td>VIDEO_PLAYERS</td>\n",
       "      <td>3.900391</td>\n",
       "      <td>54816.0</td>\n",
       "      <td>Varies with device</td>\n",
       "      <td>100,000,000+</td>\n",
       "      <td>Free</td>\n",
       "      <td>0.0</td>\n",
       "      <td>Everyone</td>\n",
       "      <td>Video Players &amp; Editors</td>\n",
       "      <td>May 2, 2018</td>\n",
       "      <td>Varies with device</td>\n",
       "      <td>Varies with device</td>\n",
       "    </tr>\n",
       "    <tr>\n",
       "      <th>10767</th>\n",
       "      <td>AAFP</td>\n",
       "      <td>MEDICAL</td>\n",
       "      <td>3.800781</td>\n",
       "      <td>63.0</td>\n",
       "      <td>24M</td>\n",
       "      <td>10,000+</td>\n",
       "      <td>Free</td>\n",
       "      <td>0.0</td>\n",
       "      <td>Everyone</td>\n",
       "      <td>Medical</td>\n",
       "      <td>June 22, 2018</td>\n",
       "      <td>2.3.1</td>\n",
       "      <td>5.0 and up</td>\n",
       "    </tr>\n",
       "  </tbody>\n",
       "</table>\n",
       "<p>996 rows × 13 columns</p>\n",
       "</div>"
      ],
      "text/plain": [
       "                                                     App            Category  \\\n",
       "229                         Quick PDF Scanner + OCR FREE            BUSINESS   \n",
       "236                                                  Box            BUSINESS   \n",
       "239                                   Google My Business            BUSINESS   \n",
       "256                                  ZOOM Cloud Meetings            BUSINESS   \n",
       "261                            join.me - Simple Meetings            BUSINESS   \n",
       "...                                                  ...                 ...   \n",
       "10213  Who Viewed My Facebook Profile - Stalkers Visi...              SOCIAL   \n",
       "10327                                   Garena Free Fire                GAME   \n",
       "10645  Podcast App: Free & Offline Podcasts by Player FM  NEWS_AND_MAGAZINES   \n",
       "10646                                  Motorola FM Radio       VIDEO_PLAYERS   \n",
       "10767                                               AAFP             MEDICAL   \n",
       "\n",
       "         Rating  Reviews                Size      Installs  Type  Price  \\\n",
       "229    4.199219      inf  Varies with device    5,000,000+  Free    0.0   \n",
       "236    4.199219      inf  Varies with device   10,000,000+  Free    0.0   \n",
       "239    4.398438      inf  Varies with device    5,000,000+  Free    0.0   \n",
       "256    4.398438  31616.0                 37M   10,000,000+  Free    0.0   \n",
       "261    4.000000   6988.0  Varies with device    1,000,000+  Free    0.0   \n",
       "...         ...      ...                 ...           ...   ...    ...   \n",
       "10213  4.601562      inf                9.9M    5,000,000+  Free    0.0   \n",
       "10327  4.500000      inf                 53M  100,000,000+  Free    0.0   \n",
       "10645  4.601562      inf                 19M    1,000,000+  Free    0.0   \n",
       "10646  3.900391  54816.0  Varies with device  100,000,000+  Free    0.0   \n",
       "10767  3.800781     63.0                 24M       10,000+  Free    0.0   \n",
       "\n",
       "      Content Rating                   Genres       Last Updated  \\\n",
       "229         Everyone                 Business  February 26, 2018   \n",
       "236         Everyone                 Business      July 31, 2018   \n",
       "239         Everyone                 Business      July 24, 2018   \n",
       "256         Everyone                 Business      July 20, 2018   \n",
       "261         Everyone                 Business      July 16, 2018   \n",
       "...              ...                      ...                ...   \n",
       "10213       Everyone                   Social      June 24, 2018   \n",
       "10327           Teen                   Action     August 3, 2018   \n",
       "10645           Teen         News & Magazines      July 25, 2018   \n",
       "10646       Everyone  Video Players & Editors        May 2, 2018   \n",
       "10767       Everyone                  Medical      June 22, 2018   \n",
       "\n",
       "              Current Ver         Android Ver  \n",
       "229    Varies with device        4.0.3 and up  \n",
       "236    Varies with device  Varies with device  \n",
       "239      2.19.0.204537701          4.4 and up  \n",
       "256        4.1.28165.0716          4.0 and up  \n",
       "261             4.3.0.508          4.4 and up  \n",
       "...                   ...                 ...  \n",
       "10213               4.1.1        4.0.3 and up  \n",
       "10327              1.21.0        4.0.3 and up  \n",
       "10645            4.1.0.72          4.0 and up  \n",
       "10646  Varies with device  Varies with device  \n",
       "10767               2.3.1          5.0 and up  \n",
       "\n",
       "[996 rows x 13 columns]"
      ]
     },
     "execution_count": 32,
     "metadata": {},
     "output_type": "execute_result"
    }
   ],
   "source": [
    "df.loc[df.duplicated(keep = 'first')]"
   ]
  },
  {
   "cell_type": "markdown",
   "metadata": {},
   "source": [
    "Deleting the duplicated rows. "
   ]
  },
  {
   "cell_type": "code",
   "execution_count": 33,
   "metadata": {},
   "outputs": [],
   "source": [
    "df = df.drop_duplicates(keep = 'first')"
   ]
  },
  {
   "cell_type": "code",
   "execution_count": 34,
   "metadata": {},
   "outputs": [
    {
     "data": {
      "text/html": [
       "<div>\n",
       "<style scoped>\n",
       "    .dataframe tbody tr th:only-of-type {\n",
       "        vertical-align: middle;\n",
       "    }\n",
       "\n",
       "    .dataframe tbody tr th {\n",
       "        vertical-align: top;\n",
       "    }\n",
       "\n",
       "    .dataframe thead th {\n",
       "        text-align: right;\n",
       "    }\n",
       "</style>\n",
       "<table border=\"1\" class=\"dataframe\">\n",
       "  <thead>\n",
       "    <tr style=\"text-align: right;\">\n",
       "      <th></th>\n",
       "      <th>App</th>\n",
       "      <th>Category</th>\n",
       "      <th>Rating</th>\n",
       "      <th>Reviews</th>\n",
       "      <th>Size</th>\n",
       "      <th>Installs</th>\n",
       "      <th>Type</th>\n",
       "      <th>Price</th>\n",
       "      <th>Content Rating</th>\n",
       "      <th>Genres</th>\n",
       "      <th>Last Updated</th>\n",
       "      <th>Current Ver</th>\n",
       "      <th>Android Ver</th>\n",
       "    </tr>\n",
       "  </thead>\n",
       "  <tbody>\n",
       "  </tbody>\n",
       "</table>\n",
       "</div>"
      ],
      "text/plain": [
       "Empty DataFrame\n",
       "Columns: [App, Category, Rating, Reviews, Size, Installs, Type, Price, Content Rating, Genres, Last Updated, Current Ver, Android Ver]\n",
       "Index: []"
      ]
     },
     "execution_count": 34,
     "metadata": {},
     "output_type": "execute_result"
    }
   ],
   "source": [
    "df[df.duplicated()]"
   ]
  },
  {
   "cell_type": "markdown",
   "metadata": {},
   "source": [
    "The above cell shows that we have successfully removed the duplicate rows from the dataset. "
   ]
  },
  {
   "cell_type": "code",
   "execution_count": 35,
   "metadata": {},
   "outputs": [
    {
     "data": {
      "text/plain": [
       "(9844, 13)"
      ]
     },
     "execution_count": 35,
     "metadata": {},
     "output_type": "execute_result"
    }
   ],
   "source": [
    "df.shape"
   ]
  },
  {
   "cell_type": "markdown",
   "metadata": {},
   "source": [
    "#### Missing Value Treatment"
   ]
  },
  {
   "cell_type": "markdown",
   "metadata": {},
   "source": [
    "We can try and see the missing values from the dataset. "
   ]
  },
  {
   "cell_type": "code",
   "execution_count": 36,
   "metadata": {},
   "outputs": [
    {
     "data": {
      "text/plain": [
       "App                  0\n",
       "Category             0\n",
       "Rating            1465\n",
       "Reviews              0\n",
       "Size                 0\n",
       "Installs             0\n",
       "Type                 1\n",
       "Price                0\n",
       "Content Rating       0\n",
       "Genres               0\n",
       "Last Updated         0\n",
       "Current Ver          8\n",
       "Android Ver          2\n",
       "dtype: int64"
      ]
     },
     "execution_count": 36,
     "metadata": {},
     "output_type": "execute_result"
    }
   ],
   "source": [
    "df.isna().sum()"
   ]
  },
  {
   "cell_type": "markdown",
   "metadata": {},
   "source": [
    "Other than rating rest all of the columns where data is missing less than 5% of the data and hence we can consider them for deletion. "
   ]
  },
  {
   "cell_type": "code",
   "execution_count": 37,
   "metadata": {},
   "outputs": [],
   "source": [
    "df = df.dropna()"
   ]
  },
  {
   "cell_type": "code",
   "execution_count": 38,
   "metadata": {},
   "outputs": [
    {
     "data": {
      "text/plain": [
       "App               0\n",
       "Category          0\n",
       "Rating            0\n",
       "Reviews           0\n",
       "Size              0\n",
       "Installs          0\n",
       "Type              0\n",
       "Price             0\n",
       "Content Rating    0\n",
       "Genres            0\n",
       "Last Updated      0\n",
       "Current Ver       0\n",
       "Android Ver       0\n",
       "dtype: int64"
      ]
     },
     "execution_count": 38,
     "metadata": {},
     "output_type": "execute_result"
    }
   ],
   "source": [
    "df.isna().sum()"
   ]
  },
  {
   "cell_type": "code",
   "execution_count": 39,
   "metadata": {},
   "outputs": [
    {
     "data": {
      "text/plain": [
       "(8373, 13)"
      ]
     },
     "execution_count": 39,
     "metadata": {},
     "output_type": "execute_result"
    }
   ],
   "source": [
    "df.shape"
   ]
  },
  {
   "cell_type": "markdown",
   "metadata": {},
   "source": [
    "After dropping the duplicates and removing the NA values, the final dataset has 8373 rows and 13 columns. "
   ]
  },
  {
   "cell_type": "markdown",
   "metadata": {},
   "source": [
    "#### Univariate Analysis - Categorical Columns"
   ]
  },
  {
   "cell_type": "markdown",
   "metadata": {},
   "source": [
    "`Category` column is a categorical column, so let's check the frequency distribution of the same. "
   ]
  },
  {
   "cell_type": "code",
   "execution_count": 40,
   "metadata": {},
   "outputs": [],
   "source": [
    "category_column = df['Category'].value_counts()"
   ]
  },
  {
   "cell_type": "code",
   "execution_count": 41,
   "metadata": {},
   "outputs": [
    {
     "data": {
      "text/plain": [
       "FAMILY                 1689\n",
       "GAME                    925\n",
       "TOOLS                   722\n",
       "FINANCE                 305\n",
       "PRODUCTIVITY            304\n",
       "LIFESTYLE               303\n",
       "MEDICAL                 302\n",
       "PERSONALIZATION         296\n",
       "BUSINESS                267\n",
       "PHOTOGRAPHY             267\n",
       "SPORTS                  264\n",
       "COMMUNICATION           261\n",
       "HEALTH_AND_FITNESS      244\n",
       "SOCIAL                  207\n",
       "NEWS_AND_MAGAZINES      206\n",
       "TRAVEL_AND_LOCAL        189\n",
       "SHOPPING                187\n",
       "BOOKS_AND_REFERENCE     170\n",
       "VIDEO_PLAYERS           152\n",
       "DATING                  144\n",
       "MAPS_AND_NAVIGATION     121\n",
       "EDUCATION               118\n",
       "FOOD_AND_DRINK          102\n",
       "ENTERTAINMENT           102\n",
       "AUTO_AND_VEHICLES        73\n",
       "WEATHER                  73\n",
       "HOUSE_AND_HOME           63\n",
       "LIBRARIES_AND_DEMO       63\n",
       "ART_AND_DESIGN           60\n",
       "COMICS                   57\n",
       "PARENTING                50\n",
       "EVENTS                   45\n",
       "BEAUTY                   42\n",
       "Name: Category, dtype: int64"
      ]
     },
     "execution_count": 41,
     "metadata": {},
     "output_type": "execute_result"
    }
   ],
   "source": [
    "category_column"
   ]
  },
  {
   "cell_type": "markdown",
   "metadata": {},
   "source": [
    "From the data, we can say that the maximum number of categories of apps that were downloaded are from 'Family' and then followed by the 'Game'. Let's convert them into percentages for better understanding. "
   ]
  },
  {
   "cell_type": "code",
   "execution_count": 42,
   "metadata": {},
   "outputs": [
    {
     "data": {
      "text/plain": [
       "FAMILY                 0.201720\n",
       "GAME                   0.110474\n",
       "TOOLS                  0.086230\n",
       "FINANCE                0.036427\n",
       "PRODUCTIVITY           0.036307\n",
       "LIFESTYLE              0.036188\n",
       "MEDICAL                0.036068\n",
       "PERSONALIZATION        0.035352\n",
       "BUSINESS               0.031888\n",
       "PHOTOGRAPHY            0.031888\n",
       "SPORTS                 0.031530\n",
       "COMMUNICATION          0.031172\n",
       "HEALTH_AND_FITNESS     0.029141\n",
       "SOCIAL                 0.024722\n",
       "NEWS_AND_MAGAZINES     0.024603\n",
       "TRAVEL_AND_LOCAL       0.022573\n",
       "SHOPPING               0.022334\n",
       "BOOKS_AND_REFERENCE    0.020303\n",
       "VIDEO_PLAYERS          0.018154\n",
       "DATING                 0.017198\n",
       "MAPS_AND_NAVIGATION    0.014451\n",
       "EDUCATION              0.014093\n",
       "FOOD_AND_DRINK         0.012182\n",
       "ENTERTAINMENT          0.012182\n",
       "AUTO_AND_VEHICLES      0.008718\n",
       "WEATHER                0.008718\n",
       "HOUSE_AND_HOME         0.007524\n",
       "LIBRARIES_AND_DEMO     0.007524\n",
       "ART_AND_DESIGN         0.007166\n",
       "COMICS                 0.006808\n",
       "PARENTING              0.005972\n",
       "EVENTS                 0.005374\n",
       "BEAUTY                 0.005016\n",
       "Name: Category, dtype: float64"
      ]
     },
     "execution_count": 42,
     "metadata": {},
     "output_type": "execute_result"
    }
   ],
   "source": [
    "df['Category'].value_counts(normalize = True)"
   ]
  },
  {
   "cell_type": "markdown",
   "metadata": {},
   "source": [
    "Let's try and visualize the data. "
   ]
  },
  {
   "cell_type": "code",
   "execution_count": 43,
   "metadata": {},
   "outputs": [
    {
     "data": {
      "image/png": "[encoded data removed]",
      "text/plain": [
       "<Figure size 432x288 with 1 Axes>"
      ]
     },
     "metadata": {},
     "output_type": "display_data"
    }
   ],
   "source": [
    "plt.bar(category_column.index, category_column.values, label = 'Category Freq Dist.', alpha = 0.8, color = 'r')\n",
    "plt.xlabel('Categories')\n",
    "plt.ylabel('Frequency Count')\n",
    "\n",
    "axes = plt.gca()\n",
    "for label in axes.xaxis.get_ticklabels():    \n",
    "    label.set_rotation(90)\n",
    "    \n",
    "plt.title('Category Wise App Freq Dist')\n",
    "plt.legend()\n",
    "plt.show()"
   ]
  },
  {
   "cell_type": "markdown",
   "metadata": {},
   "source": [
    "The `Type` column is also categorical. Let's see the frequency distribution of the same. "
   ]
  },
  {
   "cell_type": "code",
   "execution_count": 44,
   "metadata": {},
   "outputs": [
    {
     "data": {
      "text/plain": [
       "Free    7766\n",
       "Paid     607\n",
       "Name: Type, dtype: int64"
      ]
     },
     "execution_count": 44,
     "metadata": {},
     "output_type": "execute_result"
    }
   ],
   "source": [
    "df['Type'].value_counts()"
   ]
  },
  {
   "cell_type": "markdown",
   "metadata": {},
   "source": [
    "Let's get the percentages of the same. "
   ]
  },
  {
   "cell_type": "code",
   "execution_count": 45,
   "metadata": {},
   "outputs": [
    {
     "data": {
      "text/plain": [
       "Free    0.927505\n",
       "Paid    0.072495\n",
       "Name: Type, dtype: float64"
      ]
     },
     "execution_count": 45,
     "metadata": {},
     "output_type": "execute_result"
    }
   ],
   "source": [
    "df['Type'].value_counts(normalize = True)"
   ]
  },
  {
   "cell_type": "markdown",
   "metadata": {},
   "source": [
    "So over 92% of the apps that were downloaded are Free and only little over 7% of the apps are Paid. "
   ]
  },
  {
   "cell_type": "code",
   "execution_count": 46,
   "metadata": {},
   "outputs": [],
   "source": [
    "type_column = df['Type'].value_counts()"
   ]
  },
  {
   "cell_type": "code",
   "execution_count": 47,
   "metadata": {},
   "outputs": [
    {
     "data": {
      "image/png": "[encoded data removed]",
      "text/plain": [
       "<Figure size 432x288 with 1 Axes>"
      ]
     },
     "metadata": {},
     "output_type": "display_data"
    }
   ],
   "source": [
    "plt.bar(type_column.index, type_column.values, color = 'r', alpha = 0.8, label = 'Type Freq Dist.', width = 0.2)\n",
    "plt.xlabel('Type of App')\n",
    "plt.ylabel('Frequency Distribution')\n",
    "plt.title('App Type Freq Dist.')\n",
    "plt.legend()\n",
    "plt.show()"
   ]
  },
  {
   "cell_type": "markdown",
   "metadata": {},
   "source": [
    "The `Genres` column is also a categorical column. So let's take the frequency distribution of the same. "
   ]
  },
  {
   "cell_type": "code",
   "execution_count": 48,
   "metadata": {},
   "outputs": [
    {
     "data": {
      "text/plain": [
       "Tools                              721\n",
       "Entertainment                      489\n",
       "Education                          438\n",
       "Finance                            305\n",
       "Productivity                       304\n",
       "                                  ... \n",
       "Card;Brain Games                     1\n",
       "Books & Reference;Creativity         0\n",
       "Art & Design;Action & Adventure      0\n",
       "Trivia;Education                     0\n",
       "Role Playing;Education               0\n",
       "Name: Genres, Length: 119, dtype: int64"
      ]
     },
     "execution_count": 48,
     "metadata": {},
     "output_type": "execute_result"
    }
   ],
   "source": [
    "df['Genres'].value_counts()"
   ]
  },
  {
   "cell_type": "code",
   "execution_count": 49,
   "metadata": {},
   "outputs": [
    {
     "data": {
      "image/png": "[encoded data removed]",
      "text/plain": [
       "<Figure size 432x288 with 1 Axes>"
      ]
     },
     "metadata": {},
     "output_type": "display_data"
    }
   ],
   "source": [
    "genre_column = df['Genres'].value_counts()\n",
    "plt.bar(genre_column.index, genre_column.values, color = 'r', alpha = 0.8, label = 'Genres of the Apps')\n",
    "plt.xlabel('Genres')\n",
    "plt.ylabel('Frequency Count')\n",
    "plt.title('App Genres Freq Count')\n",
    "axes = plt.gca()\n",
    "for label in axes.xaxis.get_ticklabels():\n",
    "    label.set_rotation(90)\n",
    "plt.legend()\n",
    "plt.show()"
   ]
  },
  {
   "cell_type": "markdown",
   "metadata": {},
   "source": [
    "Since there are lot of `Genres`, we could probably see what are the top 10. "
   ]
  },
  {
   "cell_type": "code",
   "execution_count": 50,
   "metadata": {},
   "outputs": [
    {
     "data": {
      "text/plain": [
       "Tools              721\n",
       "Entertainment      489\n",
       "Education          438\n",
       "Finance            305\n",
       "Productivity       304\n",
       "Medical            302\n",
       "Lifestyle          302\n",
       "Personalization    296\n",
       "Action             295\n",
       "Sports             270\n",
       "Name: Genres, dtype: int64"
      ]
     },
     "execution_count": 50,
     "metadata": {},
     "output_type": "execute_result"
    }
   ],
   "source": [
    "genre_column.nlargest(10)"
   ]
  },
  {
   "cell_type": "markdown",
   "metadata": {},
   "source": [
    "We could also see what are the bottom 10. "
   ]
  },
  {
   "cell_type": "code",
   "execution_count": 51,
   "metadata": {},
   "outputs": [
    {
     "data": {
      "text/plain": [
       "Books & Reference;Creativity       0\n",
       "Art & Design;Action & Adventure    0\n",
       "Trivia;Education                   0\n",
       "Role Playing;Education             0\n",
       "Lifestyle;Education                1\n",
       "Lifestyle;Pretend Play             1\n",
       "Comics;Creativity                  1\n",
       "Music & Audio;Music & Video        1\n",
       "Arcade;Pretend Play                1\n",
       "Adventure;Education                1\n",
       "Name: Genres, dtype: int64"
      ]
     },
     "execution_count": 51,
     "metadata": {},
     "output_type": "execute_result"
    }
   ],
   "source": [
    "genre_column.nsmallest(10)"
   ]
  },
  {
   "cell_type": "markdown",
   "metadata": {},
   "source": [
    "Most of these Genres seem to be misclassified or belong to multiple Genres. "
   ]
  },
  {
   "cell_type": "markdown",
   "metadata": {},
   "source": [
    "The column `Content Rating` is also a categorical column. "
   ]
  },
  {
   "cell_type": "code",
   "execution_count": 52,
   "metadata": {},
   "outputs": [
    {
     "data": {
      "text/plain": [
       "Everyone           6735\n",
       "Teen                942\n",
       "Mature 17+          373\n",
       "Everyone 10+        319\n",
       "Adults only 18+       3\n",
       "Unrated               1\n",
       "Name: Content Rating, dtype: int64"
      ]
     },
     "execution_count": 52,
     "metadata": {},
     "output_type": "execute_result"
    }
   ],
   "source": [
    "df['Content Rating'].value_counts()"
   ]
  },
  {
   "cell_type": "markdown",
   "metadata": {},
   "source": [
    "Let's take the percentages for better comparison. "
   ]
  },
  {
   "cell_type": "code",
   "execution_count": 53,
   "metadata": {},
   "outputs": [
    {
     "data": {
      "text/plain": [
       "Everyone           0.804371\n",
       "Teen               0.112504\n",
       "Mature 17+         0.044548\n",
       "Everyone 10+       0.038099\n",
       "Adults only 18+    0.000358\n",
       "Unrated            0.000119\n",
       "Name: Content Rating, dtype: float64"
      ]
     },
     "execution_count": 53,
     "metadata": {},
     "output_type": "execute_result"
    }
   ],
   "source": [
    "df['Content Rating'].value_counts(normalize = True)"
   ]
  },
  {
   "cell_type": "markdown",
   "metadata": {},
   "source": [
    "As we can see nearly 80% of the apps belong to Everyone. "
   ]
  },
  {
   "cell_type": "code",
   "execution_count": 54,
   "metadata": {},
   "outputs": [],
   "source": [
    "content_rating_column = df['Content Rating'].value_counts()"
   ]
  },
  {
   "cell_type": "code",
   "execution_count": 55,
   "metadata": {},
   "outputs": [
    {
     "data": {
      "image/png": "[encoded data removed]",
      "text/plain": [
       "<Figure size 432x288 with 1 Axes>"
      ]
     },
     "metadata": {},
     "output_type": "display_data"
    }
   ],
   "source": [
    "plt.bar(content_rating_column.index, content_rating_column.values, alpha = 0.8, color = 'r', label = 'Content Rating Freq Dist', width = 0.75)\n",
    "plt.xlabel('Content Rating Types')\n",
    "plt.ylabel('Frequency Distribution')\n",
    "plt.title('Content Rating Freq Dist')\n",
    "axes = plt.gca()\n",
    "\n",
    "for label in axes.xaxis.get_ticklabels():\n",
    "    label.set_rotation(90)\n",
    "    \n",
    "plt.legend()\n",
    "plt.show()"
   ]
  },
  {
   "cell_type": "markdown",
   "metadata": {},
   "source": [
    "#### Univariate Analysis - Quantitative "
   ]
  },
  {
   "cell_type": "code",
   "execution_count": 56,
   "metadata": {},
   "outputs": [],
   "source": [
    "inf_index = df[df['Reviews'] == np.inf].index"
   ]
  },
  {
   "cell_type": "code",
   "execution_count": 57,
   "metadata": {},
   "outputs": [],
   "source": [
    "df = df.drop(index = inf_index)"
   ]
  },
  {
   "cell_type": "markdown",
   "metadata": {},
   "source": [
    "We have dropped all the rows which have inf as the reviews. "
   ]
  },
  {
   "cell_type": "code",
   "execution_count": 58,
   "metadata": {},
   "outputs": [
    {
     "data": {
      "text/plain": [
       "0"
      ]
     },
     "execution_count": 58,
     "metadata": {},
     "output_type": "execute_result"
    }
   ],
   "source": [
    "np.isinf(df['Reviews']).any().sum()"
   ]
  },
  {
   "cell_type": "code",
   "execution_count": 59,
   "metadata": {},
   "outputs": [
    {
     "data": {
      "text/html": [
       "<div>\n",
       "<style scoped>\n",
       "    .dataframe tbody tr th:only-of-type {\n",
       "        vertical-align: middle;\n",
       "    }\n",
       "\n",
       "    .dataframe tbody tr th {\n",
       "        vertical-align: top;\n",
       "    }\n",
       "\n",
       "    .dataframe thead th {\n",
       "        text-align: right;\n",
       "    }\n",
       "</style>\n",
       "<table border=\"1\" class=\"dataframe\">\n",
       "  <thead>\n",
       "    <tr style=\"text-align: right;\">\n",
       "      <th></th>\n",
       "      <th>Rating</th>\n",
       "      <th>Reviews</th>\n",
       "      <th>Price</th>\n",
       "    </tr>\n",
       "  </thead>\n",
       "  <tbody>\n",
       "    <tr>\n",
       "      <th>count</th>\n",
       "      <td>6545.000000</td>\n",
       "      <td>6545.0</td>\n",
       "      <td>6545.000000</td>\n",
       "    </tr>\n",
       "    <tr>\n",
       "      <th>mean</th>\n",
       "      <td>4.128906</td>\n",
       "      <td>inf</td>\n",
       "      <td>1.298185</td>\n",
       "    </tr>\n",
       "    <tr>\n",
       "      <th>std</th>\n",
       "      <td>0.579590</td>\n",
       "      <td>inf</td>\n",
       "      <td>18.857975</td>\n",
       "    </tr>\n",
       "    <tr>\n",
       "      <th>min</th>\n",
       "      <td>1.000000</td>\n",
       "      <td>1.0</td>\n",
       "      <td>0.000000</td>\n",
       "    </tr>\n",
       "    <tr>\n",
       "      <th>25%</th>\n",
       "      <td>3.900391</td>\n",
       "      <td>65.0</td>\n",
       "      <td>0.000000</td>\n",
       "    </tr>\n",
       "    <tr>\n",
       "      <th>50%</th>\n",
       "      <td>4.199219</td>\n",
       "      <td>828.0</td>\n",
       "      <td>0.000000</td>\n",
       "    </tr>\n",
       "    <tr>\n",
       "      <th>75%</th>\n",
       "      <td>4.500000</td>\n",
       "      <td>9400.0</td>\n",
       "      <td>0.000000</td>\n",
       "    </tr>\n",
       "    <tr>\n",
       "      <th>max</th>\n",
       "      <td>5.000000</td>\n",
       "      <td>65440.0</td>\n",
       "      <td>400.000000</td>\n",
       "    </tr>\n",
       "  </tbody>\n",
       "</table>\n",
       "</div>"
      ],
      "text/plain": [
       "            Rating  Reviews        Price\n",
       "count  6545.000000   6545.0  6545.000000\n",
       "mean      4.128906      inf     1.298185\n",
       "std       0.579590      inf    18.857975\n",
       "min       1.000000      1.0     0.000000\n",
       "25%       3.900391     65.0     0.000000\n",
       "50%       4.199219    828.0     0.000000\n",
       "75%       4.500000   9400.0     0.000000\n",
       "max       5.000000  65440.0   400.000000"
      ]
     },
     "execution_count": 59,
     "metadata": {},
     "output_type": "execute_result"
    }
   ],
   "source": [
    "df[['Rating', 'Reviews', 'Price']].describe()"
   ]
  },
  {
   "cell_type": "markdown",
   "metadata": {},
   "source": [
    "From the above the \"Reviews\" is having mean and std as inf, which might be due to precision as we have eradicated all the inf values in the column. Let's increase the precision to float64 instead. "
   ]
  },
  {
   "cell_type": "code",
   "execution_count": 60,
   "metadata": {},
   "outputs": [],
   "source": [
    "df['Reviews'] = df['Reviews'].astype('float64')"
   ]
  },
  {
   "cell_type": "code",
   "execution_count": 61,
   "metadata": {},
   "outputs": [
    {
     "data": {
      "text/html": [
       "<div>\n",
       "<style scoped>\n",
       "    .dataframe tbody tr th:only-of-type {\n",
       "        vertical-align: middle;\n",
       "    }\n",
       "\n",
       "    .dataframe tbody tr th {\n",
       "        vertical-align: top;\n",
       "    }\n",
       "\n",
       "    .dataframe thead th {\n",
       "        text-align: right;\n",
       "    }\n",
       "</style>\n",
       "<table border=\"1\" class=\"dataframe\">\n",
       "  <thead>\n",
       "    <tr style=\"text-align: right;\">\n",
       "      <th></th>\n",
       "      <th>Rating</th>\n",
       "      <th>Reviews</th>\n",
       "      <th>Price</th>\n",
       "    </tr>\n",
       "  </thead>\n",
       "  <tbody>\n",
       "    <tr>\n",
       "      <th>count</th>\n",
       "      <td>6545.00</td>\n",
       "      <td>6545.00</td>\n",
       "      <td>6545.00</td>\n",
       "    </tr>\n",
       "    <tr>\n",
       "      <th>mean</th>\n",
       "      <td>4.13</td>\n",
       "      <td>8316.34</td>\n",
       "      <td>1.30</td>\n",
       "    </tr>\n",
       "    <tr>\n",
       "      <th>std</th>\n",
       "      <td>0.58</td>\n",
       "      <td>14484.27</td>\n",
       "      <td>18.86</td>\n",
       "    </tr>\n",
       "    <tr>\n",
       "      <th>min</th>\n",
       "      <td>1.00</td>\n",
       "      <td>1.00</td>\n",
       "      <td>0.00</td>\n",
       "    </tr>\n",
       "    <tr>\n",
       "      <th>25%</th>\n",
       "      <td>3.90</td>\n",
       "      <td>65.00</td>\n",
       "      <td>0.00</td>\n",
       "    </tr>\n",
       "    <tr>\n",
       "      <th>50%</th>\n",
       "      <td>4.20</td>\n",
       "      <td>828.00</td>\n",
       "      <td>0.00</td>\n",
       "    </tr>\n",
       "    <tr>\n",
       "      <th>75%</th>\n",
       "      <td>4.50</td>\n",
       "      <td>9400.00</td>\n",
       "      <td>0.00</td>\n",
       "    </tr>\n",
       "    <tr>\n",
       "      <th>max</th>\n",
       "      <td>5.00</td>\n",
       "      <td>65440.00</td>\n",
       "      <td>400.00</td>\n",
       "    </tr>\n",
       "  </tbody>\n",
       "</table>\n",
       "</div>"
      ],
      "text/plain": [
       "        Rating   Reviews    Price\n",
       "count  6545.00   6545.00  6545.00\n",
       "mean      4.13   8316.34     1.30\n",
       "std       0.58  14484.27    18.86\n",
       "min       1.00      1.00     0.00\n",
       "25%       3.90     65.00     0.00\n",
       "50%       4.20    828.00     0.00\n",
       "75%       4.50   9400.00     0.00\n",
       "max       5.00  65440.00   400.00"
      ]
     },
     "execution_count": 61,
     "metadata": {},
     "output_type": "execute_result"
    }
   ],
   "source": [
    "df[['Rating', 'Reviews', 'Price']].describe().round(2)"
   ]
  },
  {
   "cell_type": "code",
   "execution_count": 62,
   "metadata": {},
   "outputs": [
    {
     "data": {
      "image/png": "[encoded data removed]",
      "text/plain": [
       "<Figure size 432x288 with 1 Axes>"
      ]
     },
     "metadata": {},
     "output_type": "display_data"
    }
   ],
   "source": [
    "plt.hist(df['Reviews'].values, bins = 10, color = 'r', alpha = 0.8, label = 'Review Count')\n",
    "plt.xlabel('Review Bins')\n",
    "plt.ylabel('Review Counts')\n",
    "plt.title('Dist of Reviews')\n",
    "plt.legend()\n",
    "plt.show()"
   ]
  },
  {
   "cell_type": "markdown",
   "metadata": {},
   "source": [
    "Observations:\n",
    "\n",
    "    The distribution of the data is positively skewed. And most of the values seem to be concentrated below 10,000. "
   ]
  },
  {
   "cell_type": "markdown",
   "metadata": {},
   "source": [
    "As it is evidently seen, most of the reviews are between 0 and 10,000."
   ]
  },
  {
   "cell_type": "code",
   "execution_count": 63,
   "metadata": {},
   "outputs": [
    {
     "data": {
      "image/png": "[encoded data removed]",
      "text/plain": [
       "<Figure size 432x288 with 1 Axes>"
      ]
     },
     "metadata": {},
     "output_type": "display_data"
    }
   ],
   "source": [
    "plt.hist(df['Rating'].values, bins = 10, alpha = 0.8, color = 'r', label = 'Rating Dist.')\n",
    "plt.xlabel('Rating bins')\n",
    "plt.ylabel('Rating Counts')\n",
    "plt.title('Dist of Ratings')\n",
    "plt.legend()\n",
    "plt.show()"
   ]
  },
  {
   "cell_type": "markdown",
   "metadata": {},
   "source": [
    "Observations:\n",
    "\n",
    "    The distribution seems to be negatively skewed. And most of the values seem to be concentrated between 4.0 and 5.0 which mean most of the apps people found them as useful and hence gave them a good rating considering 4.0+ is a good rating. "
   ]
  },
  {
   "cell_type": "code",
   "execution_count": 64,
   "metadata": {},
   "outputs": [
    {
     "data": {
      "image/png": "[encoded data removed]",
      "text/plain": [
       "<Figure size 432x288 with 1 Axes>"
      ]
     },
     "metadata": {},
     "output_type": "display_data"
    }
   ],
   "source": [
    "plt.hist(df['Price'].values, bins = 5, color = 'r', alpha = 0.8, label = 'Price Dist')\n",
    "plt.xlabel('Price Bins')\n",
    "plt.ylabel('Price Counts')\n",
    "plt.title('Dist of Price')\n",
    "plt.legend()\n",
    "plt.show()"
   ]
  },
  {
   "cell_type": "code",
   "execution_count": 65,
   "metadata": {},
   "outputs": [],
   "source": [
    "df['Installs'] = df['Installs'].str.replace('+', '').str.replace(',', '').astype(float)"
   ]
  },
  {
   "cell_type": "code",
   "execution_count": 66,
   "metadata": {},
   "outputs": [],
   "source": [
    "pd.set_option('display.float_format', lambda x: '%.3f' % x)"
   ]
  },
  {
   "cell_type": "code",
   "execution_count": 67,
   "metadata": {},
   "outputs": [
    {
     "data": {
      "image/png": "[encoded data removed]",
      "text/plain": [
       "<Figure size 432x288 with 1 Axes>"
      ]
     },
     "metadata": {},
     "output_type": "display_data"
    }
   ],
   "source": [
    "plt.hist(df['Installs'].values, bins = 10, label = 'Installs Dist.', alpha = 0.8, color = 'r')\n",
    "plt.xlabel('Installs')\n",
    "plt.ylabel('Freq Count')\n",
    "plt.title('Dist of Install Count')\n",
    "plt.legend()\n",
    "plt.show()"
   ]
  },
  {
   "cell_type": "markdown",
   "metadata": {},
   "source": [
    "#### Questions posed by IMT"
   ]
  },
  {
   "cell_type": "markdown",
   "metadata": {},
   "source": [
    "1. Find total records in columns and their datatype"
   ]
  },
  {
   "cell_type": "code",
   "execution_count": 68,
   "metadata": {},
   "outputs": [
    {
     "data": {
      "text/plain": [
       "(6545, 13)"
      ]
     },
     "execution_count": 68,
     "metadata": {},
     "output_type": "execute_result"
    }
   ],
   "source": [
    "df.shape"
   ]
  },
  {
   "cell_type": "markdown",
   "metadata": {},
   "source": [
    "We have total of 10841 rows and 13 columns. "
   ]
  },
  {
   "cell_type": "code",
   "execution_count": 69,
   "metadata": {},
   "outputs": [
    {
     "name": "stdout",
     "output_type": "stream",
     "text": [
      "<class 'pandas.core.frame.DataFrame'>\n",
      "Int64Index: 6545 entries, 0 to 10838\n",
      "Data columns (total 13 columns):\n",
      "App               6545 non-null object\n",
      "Category          6545 non-null category\n",
      "Rating            6545 non-null float16\n",
      "Reviews           6545 non-null float64\n",
      "Size              6545 non-null object\n",
      "Installs          6545 non-null float64\n",
      "Type              6545 non-null category\n",
      "Price             6545 non-null float32\n",
      "Content Rating    6545 non-null category\n",
      "Genres            6545 non-null category\n",
      "Last Updated      6545 non-null object\n",
      "Current Ver       6545 non-null object\n",
      "Android Ver       6545 non-null object\n",
      "dtypes: category(4), float16(1), float32(1), float64(2), object(5)\n",
      "memory usage: 480.7+ KB\n"
     ]
    }
   ],
   "source": [
    "df.info()"
   ]
  },
  {
   "cell_type": "markdown",
   "metadata": {},
   "source": [
    "We have in total categories 4, floats 4, and objects as 5. "
   ]
  },
  {
   "cell_type": "markdown",
   "metadata": {},
   "source": [
    "2. Calculate statastical parameter for numerical column"
   ]
  },
  {
   "cell_type": "code",
   "execution_count": 70,
   "metadata": {},
   "outputs": [
    {
     "data": {
      "text/html": [
       "<div>\n",
       "<style scoped>\n",
       "    .dataframe tbody tr th:only-of-type {\n",
       "        vertical-align: middle;\n",
       "    }\n",
       "\n",
       "    .dataframe tbody tr th {\n",
       "        vertical-align: top;\n",
       "    }\n",
       "\n",
       "    .dataframe thead th {\n",
       "        text-align: right;\n",
       "    }\n",
       "</style>\n",
       "<table border=\"1\" class=\"dataframe\">\n",
       "  <thead>\n",
       "    <tr style=\"text-align: right;\">\n",
       "      <th></th>\n",
       "      <th>Rating</th>\n",
       "      <th>Reviews</th>\n",
       "      <th>Price</th>\n",
       "    </tr>\n",
       "  </thead>\n",
       "  <tbody>\n",
       "    <tr>\n",
       "      <th>count</th>\n",
       "      <td>6545.000</td>\n",
       "      <td>6545.000</td>\n",
       "      <td>6545.000</td>\n",
       "    </tr>\n",
       "    <tr>\n",
       "      <th>mean</th>\n",
       "      <td>4.129</td>\n",
       "      <td>8316.343</td>\n",
       "      <td>1.298</td>\n",
       "    </tr>\n",
       "    <tr>\n",
       "      <th>std</th>\n",
       "      <td>0.580</td>\n",
       "      <td>14484.267</td>\n",
       "      <td>18.858</td>\n",
       "    </tr>\n",
       "    <tr>\n",
       "      <th>min</th>\n",
       "      <td>1.000</td>\n",
       "      <td>1.000</td>\n",
       "      <td>0.000</td>\n",
       "    </tr>\n",
       "    <tr>\n",
       "      <th>25%</th>\n",
       "      <td>3.900</td>\n",
       "      <td>65.000</td>\n",
       "      <td>0.000</td>\n",
       "    </tr>\n",
       "    <tr>\n",
       "      <th>50%</th>\n",
       "      <td>4.199</td>\n",
       "      <td>828.000</td>\n",
       "      <td>0.000</td>\n",
       "    </tr>\n",
       "    <tr>\n",
       "      <th>75%</th>\n",
       "      <td>4.500</td>\n",
       "      <td>9400.000</td>\n",
       "      <td>0.000</td>\n",
       "    </tr>\n",
       "    <tr>\n",
       "      <th>max</th>\n",
       "      <td>5.000</td>\n",
       "      <td>65440.000</td>\n",
       "      <td>400.000</td>\n",
       "    </tr>\n",
       "  </tbody>\n",
       "</table>\n",
       "</div>"
      ],
      "text/plain": [
       "        Rating   Reviews    Price\n",
       "count 6545.000  6545.000 6545.000\n",
       "mean     4.129  8316.343    1.298\n",
       "std      0.580 14484.267   18.858\n",
       "min      1.000     1.000    0.000\n",
       "25%      3.900    65.000    0.000\n",
       "50%      4.199   828.000    0.000\n",
       "75%      4.500  9400.000    0.000\n",
       "max      5.000 65440.000  400.000"
      ]
     },
     "execution_count": 70,
     "metadata": {},
     "output_type": "execute_result"
    }
   ],
   "source": [
    "df[['Rating', 'Reviews', 'Price']].describe()"
   ]
  },
  {
   "cell_type": "markdown",
   "metadata": {},
   "source": [
    "3. Find average rating of app?"
   ]
  },
  {
   "cell_type": "code",
   "execution_count": 71,
   "metadata": {},
   "outputs": [
    {
     "data": {
      "text/plain": [
       "4.13"
      ]
     },
     "execution_count": 71,
     "metadata": {},
     "output_type": "execute_result"
    }
   ],
   "source": [
    "df['Rating'].mean()"
   ]
  },
  {
   "cell_type": "markdown",
   "metadata": {},
   "source": [
    "4. What is average rating of only those app which comes under Photography category"
   ]
  },
  {
   "cell_type": "code",
   "execution_count": 72,
   "metadata": {},
   "outputs": [
    {
     "data": {
      "text/plain": [
       "4.027"
      ]
     },
     "execution_count": 72,
     "metadata": {},
     "output_type": "execute_result"
    }
   ],
   "source": [
    "df.loc[df['Category'] == 'PHOTOGRAPHY', 'Rating'].mean()"
   ]
  },
  {
   "cell_type": "markdown",
   "metadata": {},
   "source": [
    "5. How many are free and paid apps"
   ]
  },
  {
   "cell_type": "code",
   "execution_count": 73,
   "metadata": {},
   "outputs": [
    {
     "data": {
      "text/plain": [
       "Free    5953\n",
       "Paid     592\n",
       "Name: Type, dtype: int64"
      ]
     },
     "execution_count": 73,
     "metadata": {},
     "output_type": "execute_result"
    }
   ],
   "source": [
    "df['Type'].value_counts()"
   ]
  },
  {
   "cell_type": "markdown",
   "metadata": {},
   "source": [
    "We have in total 5953 apps as Free and 592 apps which are paid. "
   ]
  },
  {
   "cell_type": "markdown",
   "metadata": {},
   "source": [
    "6. Select top 5 app which has maximum reviews"
   ]
  },
  {
   "cell_type": "code",
   "execution_count": 74,
   "metadata": {},
   "outputs": [
    {
     "data": {
      "text/html": [
       "<div>\n",
       "<style scoped>\n",
       "    .dataframe tbody tr th:only-of-type {\n",
       "        vertical-align: middle;\n",
       "    }\n",
       "\n",
       "    .dataframe tbody tr th {\n",
       "        vertical-align: top;\n",
       "    }\n",
       "\n",
       "    .dataframe thead th {\n",
       "        text-align: right;\n",
       "    }\n",
       "</style>\n",
       "<table border=\"1\" class=\"dataframe\">\n",
       "  <thead>\n",
       "    <tr style=\"text-align: right;\">\n",
       "      <th></th>\n",
       "      <th>App</th>\n",
       "      <th>Reviews</th>\n",
       "    </tr>\n",
       "  </thead>\n",
       "  <tbody>\n",
       "    <tr>\n",
       "      <th>8357</th>\n",
       "      <td>Citymapper - Transit Navigation</td>\n",
       "      <td>65440.000</td>\n",
       "    </tr>\n",
       "    <tr>\n",
       "      <th>5865</th>\n",
       "      <td>Gangster Town: Vice District</td>\n",
       "      <td>65152.000</td>\n",
       "    </tr>\n",
       "    <tr>\n",
       "      <th>5615</th>\n",
       "      <td>Galaxy at War Online</td>\n",
       "      <td>65120.000</td>\n",
       "    </tr>\n",
       "    <tr>\n",
       "      <th>7055</th>\n",
       "      <td>BZWBK24 mobile</td>\n",
       "      <td>64992.000</td>\n",
       "    </tr>\n",
       "    <tr>\n",
       "      <th>1075</th>\n",
       "      <td>BZWBK24 mobile</td>\n",
       "      <td>64960.000</td>\n",
       "    </tr>\n",
       "  </tbody>\n",
       "</table>\n",
       "</div>"
      ],
      "text/plain": [
       "                                  App   Reviews\n",
       "8357  Citymapper - Transit Navigation 65440.000\n",
       "5865     Gangster Town: Vice District 65152.000\n",
       "5615             Galaxy at War Online 65120.000\n",
       "7055                   BZWBK24 mobile 64992.000\n",
       "1075                   BZWBK24 mobile 64960.000"
      ]
     },
     "execution_count": 74,
     "metadata": {},
     "output_type": "execute_result"
    }
   ],
   "source": [
    "df.sort_values(by = 'Reviews', ascending = False)[['App', 'Reviews']].head(5)"
   ]
  },
  {
   "cell_type": "markdown",
   "metadata": {},
   "source": [
    "7. Select top 5 app which has maximum Installs"
   ]
  },
  {
   "cell_type": "code",
   "execution_count": 75,
   "metadata": {},
   "outputs": [
    {
     "data": {
      "text/html": [
       "<div>\n",
       "<style scoped>\n",
       "    .dataframe tbody tr th:only-of-type {\n",
       "        vertical-align: middle;\n",
       "    }\n",
       "\n",
       "    .dataframe tbody tr th {\n",
       "        vertical-align: top;\n",
       "    }\n",
       "\n",
       "    .dataframe thead th {\n",
       "        text-align: right;\n",
       "    }\n",
       "</style>\n",
       "<table border=\"1\" class=\"dataframe\">\n",
       "  <thead>\n",
       "    <tr style=\"text-align: right;\">\n",
       "      <th></th>\n",
       "      <th>App</th>\n",
       "      <th>Installs</th>\n",
       "    </tr>\n",
       "  </thead>\n",
       "  <tbody>\n",
       "    <tr>\n",
       "      <th>3670</th>\n",
       "      <td>Motorola FM Radio</td>\n",
       "      <td>100000000.000</td>\n",
       "    </tr>\n",
       "    <tr>\n",
       "      <th>3242</th>\n",
       "      <td>Calculator</td>\n",
       "      <td>100000000.000</td>\n",
       "    </tr>\n",
       "    <tr>\n",
       "      <th>3489</th>\n",
       "      <td>Samsung Notes</td>\n",
       "      <td>100000000.000</td>\n",
       "    </tr>\n",
       "    <tr>\n",
       "      <th>3243</th>\n",
       "      <td>Device Help</td>\n",
       "      <td>100000000.000</td>\n",
       "    </tr>\n",
       "    <tr>\n",
       "      <th>3261</th>\n",
       "      <td>Samsung Calculator</td>\n",
       "      <td>100000000.000</td>\n",
       "    </tr>\n",
       "  </tbody>\n",
       "</table>\n",
       "</div>"
      ],
      "text/plain": [
       "                     App      Installs\n",
       "3670   Motorola FM Radio 100000000.000\n",
       "3242          Calculator 100000000.000\n",
       "3489       Samsung Notes 100000000.000\n",
       "3243         Device Help 100000000.000\n",
       "3261  Samsung Calculator 100000000.000"
      ]
     },
     "execution_count": 75,
     "metadata": {},
     "output_type": "execute_result"
    }
   ],
   "source": [
    "df.sort_values(by = 'Installs', ascending = False)[['App', 'Installs']].head(5)"
   ]
  },
  {
   "cell_type": "markdown",
   "metadata": {},
   "source": [
    "#### Plotting points requested by IMT"
   ]
  },
  {
   "cell_type": "markdown",
   "metadata": {},
   "source": [
    "1. Category Wise App Split"
   ]
  },
  {
   "cell_type": "code",
   "execution_count": 76,
   "metadata": {},
   "outputs": [],
   "source": [
    "category_column_split = df['Category'].value_counts()"
   ]
  },
  {
   "cell_type": "code",
   "execution_count": 77,
   "metadata": {},
   "outputs": [
    {
     "data": {
      "text/plain": [
       "FAMILY                 1385\n",
       "TOOLS                   581\n",
       "GAME                    535\n",
       "MEDICAL                 294\n",
       "LIFESTYLE               278\n",
       "FINANCE                 268\n",
       "BUSINESS                239\n",
       "PERSONALIZATION         239\n",
       "PRODUCTIVITY            221\n",
       "SPORTS                  194\n",
       "HEALTH_AND_FITNESS      189\n",
       "COMMUNICATION           174\n",
       "NEWS_AND_MAGAZINES      170\n",
       "PHOTOGRAPHY             160\n",
       "TRAVEL_AND_LOCAL        158\n",
       "SOCIAL                  141\n",
       "BOOKS_AND_REFERENCE     138\n",
       "DATING                  131\n",
       "SHOPPING                127\n",
       "VIDEO_PLAYERS           108\n",
       "MAPS_AND_NAVIGATION     104\n",
       "EDUCATION                90\n",
       "FOOD_AND_DRINK           82\n",
       "AUTO_AND_VEHICLES        68\n",
       "ENTERTAINMENT            62\n",
       "LIBRARIES_AND_DEMO       59\n",
       "HOUSE_AND_HOME           55\n",
       "WEATHER                  54\n",
       "ART_AND_DESIGN           54\n",
       "COMICS                   53\n",
       "PARENTING                48\n",
       "EVENTS                   45\n",
       "BEAUTY                   41\n",
       "Name: Category, dtype: int64"
      ]
     },
     "execution_count": 77,
     "metadata": {},
     "output_type": "execute_result"
    }
   ],
   "source": [
    "category_column_split"
   ]
  },
  {
   "cell_type": "code",
   "execution_count": 78,
   "metadata": {},
   "outputs": [
    {
     "data": {
      "image/png": "[encoded data removed]",
      "text/plain": [
       "<Figure size 432x288 with 1 Axes>"
      ]
     },
     "metadata": {},
     "output_type": "display_data"
    }
   ],
   "source": [
    "plt.bar(category_column_split.index, category_column_split.values, label = 'Category Freq Dist.', alpha = 0.8, color = 'r')\n",
    "plt.xlabel('Categories')\n",
    "plt.ylabel('Frequency Count')\n",
    "\n",
    "axes = plt.gca()\n",
    "for label in axes.xaxis.get_ticklabels():    \n",
    "    label.set_rotation(90)\n",
    "    \n",
    "plt.title('Category Wise App Freq Dist')\n",
    "plt.legend()\n",
    "plt.show()"
   ]
  },
  {
   "cell_type": "markdown",
   "metadata": {},
   "source": [
    "2. Categories wise average rating"
   ]
  },
  {
   "cell_type": "code",
   "execution_count": 79,
   "metadata": {},
   "outputs": [],
   "source": [
    "category_wise_avg_rating = df.groupby('Category').agg(np.mean)"
   ]
  },
  {
   "cell_type": "code",
   "execution_count": 80,
   "metadata": {},
   "outputs": [
    {
     "data": {
      "text/html": [
       "<div>\n",
       "<style scoped>\n",
       "    .dataframe tbody tr th:only-of-type {\n",
       "        vertical-align: middle;\n",
       "    }\n",
       "\n",
       "    .dataframe tbody tr th {\n",
       "        vertical-align: top;\n",
       "    }\n",
       "\n",
       "    .dataframe thead th {\n",
       "        text-align: right;\n",
       "    }\n",
       "</style>\n",
       "<table border=\"1\" class=\"dataframe\">\n",
       "  <thead>\n",
       "    <tr style=\"text-align: right;\">\n",
       "      <th></th>\n",
       "      <th>Rating</th>\n",
       "      <th>Reviews</th>\n",
       "      <th>Installs</th>\n",
       "      <th>Price</th>\n",
       "    </tr>\n",
       "    <tr>\n",
       "      <th>Category</th>\n",
       "      <th></th>\n",
       "      <th></th>\n",
       "      <th></th>\n",
       "      <th></th>\n",
       "    </tr>\n",
       "  </thead>\n",
       "  <tbody>\n",
       "    <tr>\n",
       "      <th>ART_AND_DESIGN</th>\n",
       "      <td>4.359</td>\n",
       "      <td>4213.741</td>\n",
       "      <td>448668.519</td>\n",
       "      <td>0.111</td>\n",
       "    </tr>\n",
       "    <tr>\n",
       "      <th>AUTO_AND_VEHICLES</th>\n",
       "      <td>4.160</td>\n",
       "      <td>4782.309</td>\n",
       "      <td>384261.765</td>\n",
       "      <td>0.029</td>\n",
       "    </tr>\n",
       "    <tr>\n",
       "      <th>BEAUTY</th>\n",
       "      <td>4.285</td>\n",
       "      <td>6863.561</td>\n",
       "      <td>412590.244</td>\n",
       "      <td>0.000</td>\n",
       "    </tr>\n",
       "    <tr>\n",
       "      <th>BOOKS_AND_REFERENCE</th>\n",
       "      <td>4.324</td>\n",
       "      <td>6433.283</td>\n",
       "      <td>386171.413</td>\n",
       "      <td>0.173</td>\n",
       "    </tr>\n",
       "    <tr>\n",
       "      <th>BUSINESS</th>\n",
       "      <td>4.070</td>\n",
       "      <td>4704.607</td>\n",
       "      <td>726017.238</td>\n",
       "      <td>0.269</td>\n",
       "    </tr>\n",
       "    <tr>\n",
       "      <th>COMICS</th>\n",
       "      <td>4.148</td>\n",
       "      <td>8623.717</td>\n",
       "      <td>472379.245</td>\n",
       "      <td>0.000</td>\n",
       "    </tr>\n",
       "    <tr>\n",
       "      <th>COMMUNICATION</th>\n",
       "      <td>4.027</td>\n",
       "      <td>10394.902</td>\n",
       "      <td>955411.092</td>\n",
       "      <td>0.326</td>\n",
       "    </tr>\n",
       "    <tr>\n",
       "      <th>DATING</th>\n",
       "      <td>3.930</td>\n",
       "      <td>6668.359</td>\n",
       "      <td>385667.252</td>\n",
       "      <td>0.175</td>\n",
       "    </tr>\n",
       "    <tr>\n",
       "      <th>EDUCATION</th>\n",
       "      <td>4.316</td>\n",
       "      <td>14336.289</td>\n",
       "      <td>809466.667</td>\n",
       "      <td>0.200</td>\n",
       "    </tr>\n",
       "    <tr>\n",
       "      <th>ENTERTAINMENT</th>\n",
       "      <td>4.098</td>\n",
       "      <td>21728.710</td>\n",
       "      <td>1881612.903</td>\n",
       "      <td>0.129</td>\n",
       "    </tr>\n",
       "    <tr>\n",
       "      <th>EVENTS</th>\n",
       "      <td>4.438</td>\n",
       "      <td>3569.022</td>\n",
       "      <td>354431.333</td>\n",
       "      <td>0.000</td>\n",
       "    </tr>\n",
       "    <tr>\n",
       "      <th>FAMILY</th>\n",
       "      <td>4.160</td>\n",
       "      <td>7326.542</td>\n",
       "      <td>570419.199</td>\n",
       "      <td>1.626</td>\n",
       "    </tr>\n",
       "    <tr>\n",
       "      <th>FINANCE</th>\n",
       "      <td>4.082</td>\n",
       "      <td>7508.489</td>\n",
       "      <td>407882.090</td>\n",
       "      <td>9.104</td>\n",
       "    </tr>\n",
       "    <tr>\n",
       "      <th>FOOD_AND_DRINK</th>\n",
       "      <td>4.125</td>\n",
       "      <td>12980.122</td>\n",
       "      <td>1009484.756</td>\n",
       "      <td>0.103</td>\n",
       "    </tr>\n",
       "    <tr>\n",
       "      <th>GAME</th>\n",
       "      <td>4.168</td>\n",
       "      <td>12458.374</td>\n",
       "      <td>820304.144</td>\n",
       "      <td>0.492</td>\n",
       "    </tr>\n",
       "    <tr>\n",
       "      <th>HEALTH_AND_FITNESS</th>\n",
       "      <td>4.168</td>\n",
       "      <td>10606.534</td>\n",
       "      <td>576752.487</td>\n",
       "      <td>0.224</td>\n",
       "    </tr>\n",
       "    <tr>\n",
       "      <th>HOUSE_AND_HOME</th>\n",
       "      <td>4.117</td>\n",
       "      <td>10137.109</td>\n",
       "      <td>601490.909</td>\n",
       "      <td>0.000</td>\n",
       "    </tr>\n",
       "    <tr>\n",
       "      <th>LIBRARIES_AND_DEMO</th>\n",
       "      <td>4.195</td>\n",
       "      <td>3845.136</td>\n",
       "      <td>272593.220</td>\n",
       "      <td>0.000</td>\n",
       "    </tr>\n",
       "    <tr>\n",
       "      <th>LIFESTYLE</th>\n",
       "      <td>4.066</td>\n",
       "      <td>5889.597</td>\n",
       "      <td>657342.158</td>\n",
       "      <td>7.054</td>\n",
       "    </tr>\n",
       "    <tr>\n",
       "      <th>MAPS_AND_NAVIGATION</th>\n",
       "      <td>4.000</td>\n",
       "      <td>12961.183</td>\n",
       "      <td>1050649.615</td>\n",
       "      <td>0.259</td>\n",
       "    </tr>\n",
       "    <tr>\n",
       "      <th>MEDICAL</th>\n",
       "      <td>4.168</td>\n",
       "      <td>2232.724</td>\n",
       "      <td>102594.136</td>\n",
       "      <td>2.207</td>\n",
       "    </tr>\n",
       "    <tr>\n",
       "      <th>NEWS_AND_MAGAZINES</th>\n",
       "      <td>4.078</td>\n",
       "      <td>9525.312</td>\n",
       "      <td>683003.824</td>\n",
       "      <td>0.023</td>\n",
       "    </tr>\n",
       "    <tr>\n",
       "      <th>PARENTING</th>\n",
       "      <td>4.289</td>\n",
       "      <td>4557.125</td>\n",
       "      <td>419085.625</td>\n",
       "      <td>0.200</td>\n",
       "    </tr>\n",
       "    <tr>\n",
       "      <th>PERSONALIZATION</th>\n",
       "      <td>4.320</td>\n",
       "      <td>7580.573</td>\n",
       "      <td>649966.234</td>\n",
       "      <td>0.503</td>\n",
       "    </tr>\n",
       "    <tr>\n",
       "      <th>PHOTOGRAPHY</th>\n",
       "      <td>4.027</td>\n",
       "      <td>12752.881</td>\n",
       "      <td>1232144.562</td>\n",
       "      <td>0.452</td>\n",
       "    </tr>\n",
       "    <tr>\n",
       "      <th>PRODUCTIVITY</th>\n",
       "      <td>4.102</td>\n",
       "      <td>8429.733</td>\n",
       "      <td>1436969.140</td>\n",
       "      <td>0.307</td>\n",
       "    </tr>\n",
       "    <tr>\n",
       "      <th>SHOPPING</th>\n",
       "      <td>4.156</td>\n",
       "      <td>13558.772</td>\n",
       "      <td>1451429.449</td>\n",
       "      <td>0.043</td>\n",
       "    </tr>\n",
       "    <tr>\n",
       "      <th>SOCIAL</th>\n",
       "      <td>4.230</td>\n",
       "      <td>9803.383</td>\n",
       "      <td>736464.362</td>\n",
       "      <td>0.014</td>\n",
       "    </tr>\n",
       "    <tr>\n",
       "      <th>SPORTS</th>\n",
       "      <td>4.203</td>\n",
       "      <td>9614.490</td>\n",
       "      <td>554285.902</td>\n",
       "      <td>0.470</td>\n",
       "    </tr>\n",
       "    <tr>\n",
       "      <th>TOOLS</th>\n",
       "      <td>3.963</td>\n",
       "      <td>6069.478</td>\n",
       "      <td>1558045.611</td>\n",
       "      <td>0.358</td>\n",
       "    </tr>\n",
       "    <tr>\n",
       "      <th>TRAVEL_AND_LOCAL</th>\n",
       "      <td>4.012</td>\n",
       "      <td>10705.127</td>\n",
       "      <td>1435818.354</td>\n",
       "      <td>0.237</td>\n",
       "    </tr>\n",
       "    <tr>\n",
       "      <th>VIDEO_PLAYERS</th>\n",
       "      <td>3.934</td>\n",
       "      <td>9007.944</td>\n",
       "      <td>2286085.185</td>\n",
       "      <td>0.097</td>\n",
       "    </tr>\n",
       "    <tr>\n",
       "      <th>WEATHER</th>\n",
       "      <td>4.199</td>\n",
       "      <td>11362.222</td>\n",
       "      <td>1270305.556</td>\n",
       "      <td>0.434</td>\n",
       "    </tr>\n",
       "  </tbody>\n",
       "</table>\n",
       "</div>"
      ],
      "text/plain": [
       "                     Rating   Reviews    Installs  Price\n",
       "Category                                                \n",
       "ART_AND_DESIGN        4.359  4213.741  448668.519  0.111\n",
       "AUTO_AND_VEHICLES     4.160  4782.309  384261.765  0.029\n",
       "BEAUTY                4.285  6863.561  412590.244  0.000\n",
       "BOOKS_AND_REFERENCE   4.324  6433.283  386171.413  0.173\n",
       "BUSINESS              4.070  4704.607  726017.238  0.269\n",
       "COMICS                4.148  8623.717  472379.245  0.000\n",
       "COMMUNICATION         4.027 10394.902  955411.092  0.326\n",
       "DATING                3.930  6668.359  385667.252  0.175\n",
       "EDUCATION             4.316 14336.289  809466.667  0.200\n",
       "ENTERTAINMENT         4.098 21728.710 1881612.903  0.129\n",
       "EVENTS                4.438  3569.022  354431.333  0.000\n",
       "FAMILY                4.160  7326.542  570419.199  1.626\n",
       "FINANCE               4.082  7508.489  407882.090  9.104\n",
       "FOOD_AND_DRINK        4.125 12980.122 1009484.756  0.103\n",
       "GAME                  4.168 12458.374  820304.144  0.492\n",
       "HEALTH_AND_FITNESS    4.168 10606.534  576752.487  0.224\n",
       "HOUSE_AND_HOME        4.117 10137.109  601490.909  0.000\n",
       "LIBRARIES_AND_DEMO    4.195  3845.136  272593.220  0.000\n",
       "LIFESTYLE             4.066  5889.597  657342.158  7.054\n",
       "MAPS_AND_NAVIGATION   4.000 12961.183 1050649.615  0.259\n",
       "MEDICAL               4.168  2232.724  102594.136  2.207\n",
       "NEWS_AND_MAGAZINES    4.078  9525.312  683003.824  0.023\n",
       "PARENTING             4.289  4557.125  419085.625  0.200\n",
       "PERSONALIZATION       4.320  7580.573  649966.234  0.503\n",
       "PHOTOGRAPHY           4.027 12752.881 1232144.562  0.452\n",
       "PRODUCTIVITY          4.102  8429.733 1436969.140  0.307\n",
       "SHOPPING              4.156 13558.772 1451429.449  0.043\n",
       "SOCIAL                4.230  9803.383  736464.362  0.014\n",
       "SPORTS                4.203  9614.490  554285.902  0.470\n",
       "TOOLS                 3.963  6069.478 1558045.611  0.358\n",
       "TRAVEL_AND_LOCAL      4.012 10705.127 1435818.354  0.237\n",
       "VIDEO_PLAYERS         3.934  9007.944 2286085.185  0.097\n",
       "WEATHER               4.199 11362.222 1270305.556  0.434"
      ]
     },
     "execution_count": 80,
     "metadata": {},
     "output_type": "execute_result"
    }
   ],
   "source": [
    "category_wise_avg_rating"
   ]
  },
  {
   "cell_type": "code",
   "execution_count": 81,
   "metadata": {},
   "outputs": [
    {
     "data": {
      "image/png": "[encoded data removed]",
      "text/plain": [
       "<Figure size 432x288 with 1 Axes>"
      ]
     },
     "metadata": {},
     "output_type": "display_data"
    }
   ],
   "source": [
    "plt.bar(category_wise_avg_rating.index, category_wise_avg_rating['Rating'], color = 'r', alpha = 0.8, label = 'Category wise Avg Rating')\n",
    "plt.xlabel('Categories')\n",
    "plt.ylabel('Avg Rating')\n",
    "plt.title('Category Wise Avg Rating')\n",
    "plt.legend()\n",
    "axes = plt.gca()\n",
    "for label in axes.xaxis.get_ticklabels():\n",
    "    label.set_rotation(90)\n",
    "    \n",
    "plt.show()"
   ]
  },
  {
   "cell_type": "markdown",
   "metadata": {},
   "source": [
    "3. Category wise total review"
   ]
  },
  {
   "cell_type": "code",
   "execution_count": 99,
   "metadata": {},
   "outputs": [],
   "source": [
    "category_wise_total_reviews = df.groupby('Category').count()"
   ]
  },
  {
   "cell_type": "code",
   "execution_count": 100,
   "metadata": {},
   "outputs": [
    {
     "data": {
      "text/html": [
       "<div>\n",
       "<style scoped>\n",
       "    .dataframe tbody tr th:only-of-type {\n",
       "        vertical-align: middle;\n",
       "    }\n",
       "\n",
       "    .dataframe tbody tr th {\n",
       "        vertical-align: top;\n",
       "    }\n",
       "\n",
       "    .dataframe thead th {\n",
       "        text-align: right;\n",
       "    }\n",
       "</style>\n",
       "<table border=\"1\" class=\"dataframe\">\n",
       "  <thead>\n",
       "    <tr style=\"text-align: right;\">\n",
       "      <th></th>\n",
       "      <th>App</th>\n",
       "      <th>Rating</th>\n",
       "      <th>Reviews</th>\n",
       "      <th>Size</th>\n",
       "      <th>Installs</th>\n",
       "      <th>Type</th>\n",
       "      <th>Price</th>\n",
       "      <th>Content Rating</th>\n",
       "      <th>Genres</th>\n",
       "      <th>Last Updated</th>\n",
       "      <th>Current Ver</th>\n",
       "      <th>Android Ver</th>\n",
       "    </tr>\n",
       "    <tr>\n",
       "      <th>Category</th>\n",
       "      <th></th>\n",
       "      <th></th>\n",
       "      <th></th>\n",
       "      <th></th>\n",
       "      <th></th>\n",
       "      <th></th>\n",
       "      <th></th>\n",
       "      <th></th>\n",
       "      <th></th>\n",
       "      <th></th>\n",
       "      <th></th>\n",
       "      <th></th>\n",
       "    </tr>\n",
       "  </thead>\n",
       "  <tbody>\n",
       "    <tr>\n",
       "      <th>ART_AND_DESIGN</th>\n",
       "      <td>54</td>\n",
       "      <td>54</td>\n",
       "      <td>54</td>\n",
       "      <td>54</td>\n",
       "      <td>54</td>\n",
       "      <td>54</td>\n",
       "      <td>54</td>\n",
       "      <td>54</td>\n",
       "      <td>54</td>\n",
       "      <td>54</td>\n",
       "      <td>54</td>\n",
       "      <td>54</td>\n",
       "    </tr>\n",
       "    <tr>\n",
       "      <th>AUTO_AND_VEHICLES</th>\n",
       "      <td>68</td>\n",
       "      <td>68</td>\n",
       "      <td>68</td>\n",
       "      <td>68</td>\n",
       "      <td>68</td>\n",
       "      <td>68</td>\n",
       "      <td>68</td>\n",
       "      <td>68</td>\n",
       "      <td>68</td>\n",
       "      <td>68</td>\n",
       "      <td>68</td>\n",
       "      <td>68</td>\n",
       "    </tr>\n",
       "    <tr>\n",
       "      <th>BEAUTY</th>\n",
       "      <td>41</td>\n",
       "      <td>41</td>\n",
       "      <td>41</td>\n",
       "      <td>41</td>\n",
       "      <td>41</td>\n",
       "      <td>41</td>\n",
       "      <td>41</td>\n",
       "      <td>41</td>\n",
       "      <td>41</td>\n",
       "      <td>41</td>\n",
       "      <td>41</td>\n",
       "      <td>41</td>\n",
       "    </tr>\n",
       "    <tr>\n",
       "      <th>BOOKS_AND_REFERENCE</th>\n",
       "      <td>138</td>\n",
       "      <td>138</td>\n",
       "      <td>138</td>\n",
       "      <td>138</td>\n",
       "      <td>138</td>\n",
       "      <td>138</td>\n",
       "      <td>138</td>\n",
       "      <td>138</td>\n",
       "      <td>138</td>\n",
       "      <td>138</td>\n",
       "      <td>138</td>\n",
       "      <td>138</td>\n",
       "    </tr>\n",
       "    <tr>\n",
       "      <th>BUSINESS</th>\n",
       "      <td>239</td>\n",
       "      <td>239</td>\n",
       "      <td>239</td>\n",
       "      <td>239</td>\n",
       "      <td>239</td>\n",
       "      <td>239</td>\n",
       "      <td>239</td>\n",
       "      <td>239</td>\n",
       "      <td>239</td>\n",
       "      <td>239</td>\n",
       "      <td>239</td>\n",
       "      <td>239</td>\n",
       "    </tr>\n",
       "    <tr>\n",
       "      <th>COMICS</th>\n",
       "      <td>53</td>\n",
       "      <td>53</td>\n",
       "      <td>53</td>\n",
       "      <td>53</td>\n",
       "      <td>53</td>\n",
       "      <td>53</td>\n",
       "      <td>53</td>\n",
       "      <td>53</td>\n",
       "      <td>53</td>\n",
       "      <td>53</td>\n",
       "      <td>53</td>\n",
       "      <td>53</td>\n",
       "    </tr>\n",
       "    <tr>\n",
       "      <th>COMMUNICATION</th>\n",
       "      <td>174</td>\n",
       "      <td>174</td>\n",
       "      <td>174</td>\n",
       "      <td>174</td>\n",
       "      <td>174</td>\n",
       "      <td>174</td>\n",
       "      <td>174</td>\n",
       "      <td>174</td>\n",
       "      <td>174</td>\n",
       "      <td>174</td>\n",
       "      <td>174</td>\n",
       "      <td>174</td>\n",
       "    </tr>\n",
       "    <tr>\n",
       "      <th>DATING</th>\n",
       "      <td>131</td>\n",
       "      <td>131</td>\n",
       "      <td>131</td>\n",
       "      <td>131</td>\n",
       "      <td>131</td>\n",
       "      <td>131</td>\n",
       "      <td>131</td>\n",
       "      <td>131</td>\n",
       "      <td>131</td>\n",
       "      <td>131</td>\n",
       "      <td>131</td>\n",
       "      <td>131</td>\n",
       "    </tr>\n",
       "    <tr>\n",
       "      <th>EDUCATION</th>\n",
       "      <td>90</td>\n",
       "      <td>90</td>\n",
       "      <td>90</td>\n",
       "      <td>90</td>\n",
       "      <td>90</td>\n",
       "      <td>90</td>\n",
       "      <td>90</td>\n",
       "      <td>90</td>\n",
       "      <td>90</td>\n",
       "      <td>90</td>\n",
       "      <td>90</td>\n",
       "      <td>90</td>\n",
       "    </tr>\n",
       "    <tr>\n",
       "      <th>ENTERTAINMENT</th>\n",
       "      <td>62</td>\n",
       "      <td>62</td>\n",
       "      <td>62</td>\n",
       "      <td>62</td>\n",
       "      <td>62</td>\n",
       "      <td>62</td>\n",
       "      <td>62</td>\n",
       "      <td>62</td>\n",
       "      <td>62</td>\n",
       "      <td>62</td>\n",
       "      <td>62</td>\n",
       "      <td>62</td>\n",
       "    </tr>\n",
       "    <tr>\n",
       "      <th>EVENTS</th>\n",
       "      <td>45</td>\n",
       "      <td>45</td>\n",
       "      <td>45</td>\n",
       "      <td>45</td>\n",
       "      <td>45</td>\n",
       "      <td>45</td>\n",
       "      <td>45</td>\n",
       "      <td>45</td>\n",
       "      <td>45</td>\n",
       "      <td>45</td>\n",
       "      <td>45</td>\n",
       "      <td>45</td>\n",
       "    </tr>\n",
       "    <tr>\n",
       "      <th>FAMILY</th>\n",
       "      <td>1385</td>\n",
       "      <td>1385</td>\n",
       "      <td>1385</td>\n",
       "      <td>1385</td>\n",
       "      <td>1385</td>\n",
       "      <td>1385</td>\n",
       "      <td>1385</td>\n",
       "      <td>1385</td>\n",
       "      <td>1385</td>\n",
       "      <td>1385</td>\n",
       "      <td>1385</td>\n",
       "      <td>1385</td>\n",
       "    </tr>\n",
       "    <tr>\n",
       "      <th>FINANCE</th>\n",
       "      <td>268</td>\n",
       "      <td>268</td>\n",
       "      <td>268</td>\n",
       "      <td>268</td>\n",
       "      <td>268</td>\n",
       "      <td>268</td>\n",
       "      <td>268</td>\n",
       "      <td>268</td>\n",
       "      <td>268</td>\n",
       "      <td>268</td>\n",
       "      <td>268</td>\n",
       "      <td>268</td>\n",
       "    </tr>\n",
       "    <tr>\n",
       "      <th>FOOD_AND_DRINK</th>\n",
       "      <td>82</td>\n",
       "      <td>82</td>\n",
       "      <td>82</td>\n",
       "      <td>82</td>\n",
       "      <td>82</td>\n",
       "      <td>82</td>\n",
       "      <td>82</td>\n",
       "      <td>82</td>\n",
       "      <td>82</td>\n",
       "      <td>82</td>\n",
       "      <td>82</td>\n",
       "      <td>82</td>\n",
       "    </tr>\n",
       "    <tr>\n",
       "      <th>GAME</th>\n",
       "      <td>535</td>\n",
       "      <td>535</td>\n",
       "      <td>535</td>\n",
       "      <td>535</td>\n",
       "      <td>535</td>\n",
       "      <td>535</td>\n",
       "      <td>535</td>\n",
       "      <td>535</td>\n",
       "      <td>535</td>\n",
       "      <td>535</td>\n",
       "      <td>535</td>\n",
       "      <td>535</td>\n",
       "    </tr>\n",
       "    <tr>\n",
       "      <th>HEALTH_AND_FITNESS</th>\n",
       "      <td>189</td>\n",
       "      <td>189</td>\n",
       "      <td>189</td>\n",
       "      <td>189</td>\n",
       "      <td>189</td>\n",
       "      <td>189</td>\n",
       "      <td>189</td>\n",
       "      <td>189</td>\n",
       "      <td>189</td>\n",
       "      <td>189</td>\n",
       "      <td>189</td>\n",
       "      <td>189</td>\n",
       "    </tr>\n",
       "    <tr>\n",
       "      <th>HOUSE_AND_HOME</th>\n",
       "      <td>55</td>\n",
       "      <td>55</td>\n",
       "      <td>55</td>\n",
       "      <td>55</td>\n",
       "      <td>55</td>\n",
       "      <td>55</td>\n",
       "      <td>55</td>\n",
       "      <td>55</td>\n",
       "      <td>55</td>\n",
       "      <td>55</td>\n",
       "      <td>55</td>\n",
       "      <td>55</td>\n",
       "    </tr>\n",
       "    <tr>\n",
       "      <th>LIBRARIES_AND_DEMO</th>\n",
       "      <td>59</td>\n",
       "      <td>59</td>\n",
       "      <td>59</td>\n",
       "      <td>59</td>\n",
       "      <td>59</td>\n",
       "      <td>59</td>\n",
       "      <td>59</td>\n",
       "      <td>59</td>\n",
       "      <td>59</td>\n",
       "      <td>59</td>\n",
       "      <td>59</td>\n",
       "      <td>59</td>\n",
       "    </tr>\n",
       "    <tr>\n",
       "      <th>LIFESTYLE</th>\n",
       "      <td>278</td>\n",
       "      <td>278</td>\n",
       "      <td>278</td>\n",
       "      <td>278</td>\n",
       "      <td>278</td>\n",
       "      <td>278</td>\n",
       "      <td>278</td>\n",
       "      <td>278</td>\n",
       "      <td>278</td>\n",
       "      <td>278</td>\n",
       "      <td>278</td>\n",
       "      <td>278</td>\n",
       "    </tr>\n",
       "    <tr>\n",
       "      <th>MAPS_AND_NAVIGATION</th>\n",
       "      <td>104</td>\n",
       "      <td>104</td>\n",
       "      <td>104</td>\n",
       "      <td>104</td>\n",
       "      <td>104</td>\n",
       "      <td>104</td>\n",
       "      <td>104</td>\n",
       "      <td>104</td>\n",
       "      <td>104</td>\n",
       "      <td>104</td>\n",
       "      <td>104</td>\n",
       "      <td>104</td>\n",
       "    </tr>\n",
       "    <tr>\n",
       "      <th>MEDICAL</th>\n",
       "      <td>294</td>\n",
       "      <td>294</td>\n",
       "      <td>294</td>\n",
       "      <td>294</td>\n",
       "      <td>294</td>\n",
       "      <td>294</td>\n",
       "      <td>294</td>\n",
       "      <td>294</td>\n",
       "      <td>294</td>\n",
       "      <td>294</td>\n",
       "      <td>294</td>\n",
       "      <td>294</td>\n",
       "    </tr>\n",
       "    <tr>\n",
       "      <th>NEWS_AND_MAGAZINES</th>\n",
       "      <td>170</td>\n",
       "      <td>170</td>\n",
       "      <td>170</td>\n",
       "      <td>170</td>\n",
       "      <td>170</td>\n",
       "      <td>170</td>\n",
       "      <td>170</td>\n",
       "      <td>170</td>\n",
       "      <td>170</td>\n",
       "      <td>170</td>\n",
       "      <td>170</td>\n",
       "      <td>170</td>\n",
       "    </tr>\n",
       "    <tr>\n",
       "      <th>PARENTING</th>\n",
       "      <td>48</td>\n",
       "      <td>48</td>\n",
       "      <td>48</td>\n",
       "      <td>48</td>\n",
       "      <td>48</td>\n",
       "      <td>48</td>\n",
       "      <td>48</td>\n",
       "      <td>48</td>\n",
       "      <td>48</td>\n",
       "      <td>48</td>\n",
       "      <td>48</td>\n",
       "      <td>48</td>\n",
       "    </tr>\n",
       "    <tr>\n",
       "      <th>PERSONALIZATION</th>\n",
       "      <td>239</td>\n",
       "      <td>239</td>\n",
       "      <td>239</td>\n",
       "      <td>239</td>\n",
       "      <td>239</td>\n",
       "      <td>239</td>\n",
       "      <td>239</td>\n",
       "      <td>239</td>\n",
       "      <td>239</td>\n",
       "      <td>239</td>\n",
       "      <td>239</td>\n",
       "      <td>239</td>\n",
       "    </tr>\n",
       "    <tr>\n",
       "      <th>PHOTOGRAPHY</th>\n",
       "      <td>160</td>\n",
       "      <td>160</td>\n",
       "      <td>160</td>\n",
       "      <td>160</td>\n",
       "      <td>160</td>\n",
       "      <td>160</td>\n",
       "      <td>160</td>\n",
       "      <td>160</td>\n",
       "      <td>160</td>\n",
       "      <td>160</td>\n",
       "      <td>160</td>\n",
       "      <td>160</td>\n",
       "    </tr>\n",
       "    <tr>\n",
       "      <th>PRODUCTIVITY</th>\n",
       "      <td>221</td>\n",
       "      <td>221</td>\n",
       "      <td>221</td>\n",
       "      <td>221</td>\n",
       "      <td>221</td>\n",
       "      <td>221</td>\n",
       "      <td>221</td>\n",
       "      <td>221</td>\n",
       "      <td>221</td>\n",
       "      <td>221</td>\n",
       "      <td>221</td>\n",
       "      <td>221</td>\n",
       "    </tr>\n",
       "    <tr>\n",
       "      <th>SHOPPING</th>\n",
       "      <td>127</td>\n",
       "      <td>127</td>\n",
       "      <td>127</td>\n",
       "      <td>127</td>\n",
       "      <td>127</td>\n",
       "      <td>127</td>\n",
       "      <td>127</td>\n",
       "      <td>127</td>\n",
       "      <td>127</td>\n",
       "      <td>127</td>\n",
       "      <td>127</td>\n",
       "      <td>127</td>\n",
       "    </tr>\n",
       "    <tr>\n",
       "      <th>SOCIAL</th>\n",
       "      <td>141</td>\n",
       "      <td>141</td>\n",
       "      <td>141</td>\n",
       "      <td>141</td>\n",
       "      <td>141</td>\n",
       "      <td>141</td>\n",
       "      <td>141</td>\n",
       "      <td>141</td>\n",
       "      <td>141</td>\n",
       "      <td>141</td>\n",
       "      <td>141</td>\n",
       "      <td>141</td>\n",
       "    </tr>\n",
       "    <tr>\n",
       "      <th>SPORTS</th>\n",
       "      <td>194</td>\n",
       "      <td>194</td>\n",
       "      <td>194</td>\n",
       "      <td>194</td>\n",
       "      <td>194</td>\n",
       "      <td>194</td>\n",
       "      <td>194</td>\n",
       "      <td>194</td>\n",
       "      <td>194</td>\n",
       "      <td>194</td>\n",
       "      <td>194</td>\n",
       "      <td>194</td>\n",
       "    </tr>\n",
       "    <tr>\n",
       "      <th>TOOLS</th>\n",
       "      <td>581</td>\n",
       "      <td>581</td>\n",
       "      <td>581</td>\n",
       "      <td>581</td>\n",
       "      <td>581</td>\n",
       "      <td>581</td>\n",
       "      <td>581</td>\n",
       "      <td>581</td>\n",
       "      <td>581</td>\n",
       "      <td>581</td>\n",
       "      <td>581</td>\n",
       "      <td>581</td>\n",
       "    </tr>\n",
       "    <tr>\n",
       "      <th>TRAVEL_AND_LOCAL</th>\n",
       "      <td>158</td>\n",
       "      <td>158</td>\n",
       "      <td>158</td>\n",
       "      <td>158</td>\n",
       "      <td>158</td>\n",
       "      <td>158</td>\n",
       "      <td>158</td>\n",
       "      <td>158</td>\n",
       "      <td>158</td>\n",
       "      <td>158</td>\n",
       "      <td>158</td>\n",
       "      <td>158</td>\n",
       "    </tr>\n",
       "    <tr>\n",
       "      <th>VIDEO_PLAYERS</th>\n",
       "      <td>108</td>\n",
       "      <td>108</td>\n",
       "      <td>108</td>\n",
       "      <td>108</td>\n",
       "      <td>108</td>\n",
       "      <td>108</td>\n",
       "      <td>108</td>\n",
       "      <td>108</td>\n",
       "      <td>108</td>\n",
       "      <td>108</td>\n",
       "      <td>108</td>\n",
       "      <td>108</td>\n",
       "    </tr>\n",
       "    <tr>\n",
       "      <th>WEATHER</th>\n",
       "      <td>54</td>\n",
       "      <td>54</td>\n",
       "      <td>54</td>\n",
       "      <td>54</td>\n",
       "      <td>54</td>\n",
       "      <td>54</td>\n",
       "      <td>54</td>\n",
       "      <td>54</td>\n",
       "      <td>54</td>\n",
       "      <td>54</td>\n",
       "      <td>54</td>\n",
       "      <td>54</td>\n",
       "    </tr>\n",
       "  </tbody>\n",
       "</table>\n",
       "</div>"
      ],
      "text/plain": [
       "                      App  Rating  Reviews  Size  Installs  Type  Price  \\\n",
       "Category                                                                  \n",
       "ART_AND_DESIGN         54      54       54    54        54    54     54   \n",
       "AUTO_AND_VEHICLES      68      68       68    68        68    68     68   \n",
       "BEAUTY                 41      41       41    41        41    41     41   \n",
       "BOOKS_AND_REFERENCE   138     138      138   138       138   138    138   \n",
       "BUSINESS              239     239      239   239       239   239    239   \n",
       "COMICS                 53      53       53    53        53    53     53   \n",
       "COMMUNICATION         174     174      174   174       174   174    174   \n",
       "DATING                131     131      131   131       131   131    131   \n",
       "EDUCATION              90      90       90    90        90    90     90   \n",
       "ENTERTAINMENT          62      62       62    62        62    62     62   \n",
       "EVENTS                 45      45       45    45        45    45     45   \n",
       "FAMILY               1385    1385     1385  1385      1385  1385   1385   \n",
       "FINANCE               268     268      268   268       268   268    268   \n",
       "FOOD_AND_DRINK         82      82       82    82        82    82     82   \n",
       "GAME                  535     535      535   535       535   535    535   \n",
       "HEALTH_AND_FITNESS    189     189      189   189       189   189    189   \n",
       "HOUSE_AND_HOME         55      55       55    55        55    55     55   \n",
       "LIBRARIES_AND_DEMO     59      59       59    59        59    59     59   \n",
       "LIFESTYLE             278     278      278   278       278   278    278   \n",
       "MAPS_AND_NAVIGATION   104     104      104   104       104   104    104   \n",
       "MEDICAL               294     294      294   294       294   294    294   \n",
       "NEWS_AND_MAGAZINES    170     170      170   170       170   170    170   \n",
       "PARENTING              48      48       48    48        48    48     48   \n",
       "PERSONALIZATION       239     239      239   239       239   239    239   \n",
       "PHOTOGRAPHY           160     160      160   160       160   160    160   \n",
       "PRODUCTIVITY          221     221      221   221       221   221    221   \n",
       "SHOPPING              127     127      127   127       127   127    127   \n",
       "SOCIAL                141     141      141   141       141   141    141   \n",
       "SPORTS                194     194      194   194       194   194    194   \n",
       "TOOLS                 581     581      581   581       581   581    581   \n",
       "TRAVEL_AND_LOCAL      158     158      158   158       158   158    158   \n",
       "VIDEO_PLAYERS         108     108      108   108       108   108    108   \n",
       "WEATHER                54      54       54    54        54    54     54   \n",
       "\n",
       "                     Content Rating  Genres  Last Updated  Current Ver  \\\n",
       "Category                                                                 \n",
       "ART_AND_DESIGN                   54      54            54           54   \n",
       "AUTO_AND_VEHICLES                68      68            68           68   \n",
       "BEAUTY                           41      41            41           41   \n",
       "BOOKS_AND_REFERENCE             138     138           138          138   \n",
       "BUSINESS                        239     239           239          239   \n",
       "COMICS                           53      53            53           53   \n",
       "COMMUNICATION                   174     174           174          174   \n",
       "DATING                          131     131           131          131   \n",
       "EDUCATION                        90      90            90           90   \n",
       "ENTERTAINMENT                    62      62            62           62   \n",
       "EVENTS                           45      45            45           45   \n",
       "FAMILY                         1385    1385          1385         1385   \n",
       "FINANCE                         268     268           268          268   \n",
       "FOOD_AND_DRINK                   82      82            82           82   \n",
       "GAME                            535     535           535          535   \n",
       "HEALTH_AND_FITNESS              189     189           189          189   \n",
       "HOUSE_AND_HOME                   55      55            55           55   \n",
       "LIBRARIES_AND_DEMO               59      59            59           59   \n",
       "LIFESTYLE                       278     278           278          278   \n",
       "MAPS_AND_NAVIGATION             104     104           104          104   \n",
       "MEDICAL                         294     294           294          294   \n",
       "NEWS_AND_MAGAZINES              170     170           170          170   \n",
       "PARENTING                        48      48            48           48   \n",
       "PERSONALIZATION                 239     239           239          239   \n",
       "PHOTOGRAPHY                     160     160           160          160   \n",
       "PRODUCTIVITY                    221     221           221          221   \n",
       "SHOPPING                        127     127           127          127   \n",
       "SOCIAL                          141     141           141          141   \n",
       "SPORTS                          194     194           194          194   \n",
       "TOOLS                           581     581           581          581   \n",
       "TRAVEL_AND_LOCAL                158     158           158          158   \n",
       "VIDEO_PLAYERS                   108     108           108          108   \n",
       "WEATHER                          54      54            54           54   \n",
       "\n",
       "                     Android Ver  \n",
       "Category                          \n",
       "ART_AND_DESIGN                54  \n",
       "AUTO_AND_VEHICLES             68  \n",
       "BEAUTY                        41  \n",
       "BOOKS_AND_REFERENCE          138  \n",
       "BUSINESS                     239  \n",
       "COMICS                        53  \n",
       "COMMUNICATION                174  \n",
       "DATING                       131  \n",
       "EDUCATION                     90  \n",
       "ENTERTAINMENT                 62  \n",
       "EVENTS                        45  \n",
       "FAMILY                      1385  \n",
       "FINANCE                      268  \n",
       "FOOD_AND_DRINK                82  \n",
       "GAME                         535  \n",
       "HEALTH_AND_FITNESS           189  \n",
       "HOUSE_AND_HOME                55  \n",
       "LIBRARIES_AND_DEMO            59  \n",
       "LIFESTYLE                    278  \n",
       "MAPS_AND_NAVIGATION          104  \n",
       "MEDICAL                      294  \n",
       "NEWS_AND_MAGAZINES           170  \n",
       "PARENTING                     48  \n",
       "PERSONALIZATION              239  \n",
       "PHOTOGRAPHY                  160  \n",
       "PRODUCTIVITY                 221  \n",
       "SHOPPING                     127  \n",
       "SOCIAL                       141  \n",
       "SPORTS                       194  \n",
       "TOOLS                        581  \n",
       "TRAVEL_AND_LOCAL             158  \n",
       "VIDEO_PLAYERS                108  \n",
       "WEATHER                       54  "
      ]
     },
     "execution_count": 100,
     "metadata": {},
     "output_type": "execute_result"
    }
   ],
   "source": [
    "category_wise_total_reviews"
   ]
  },
  {
   "cell_type": "code",
   "execution_count": 101,
   "metadata": {},
   "outputs": [],
   "source": [
    "category_wise_total_reviews = category_wise_total_reviews.sort_values(by = 'Reviews', ascending = False)"
   ]
  },
  {
   "cell_type": "code",
   "execution_count": 102,
   "metadata": {},
   "outputs": [
    {
     "data": {
      "image/png": "[encoded data removed]",
      "text/plain": [
       "<Figure size 432x288 with 1 Axes>"
      ]
     },
     "metadata": {},
     "output_type": "display_data"
    }
   ],
   "source": [
    "plt.bar(category_wise_total_reviews.index, category_wise_total_reviews['Reviews'], color = 'r', alpha = 0.8, label = 'Category wise Total Reviews')\n",
    "plt.xlabel('Categories')\n",
    "plt.ylabel('Total Reviews')\n",
    "plt.title('Category Wise Total Reviews')\n",
    "plt.legend()\n",
    "axes = plt.gca()\n",
    "for label in axes.xaxis.get_ticklabels():\n",
    "    label.set_rotation(90)\n",
    "    \n",
    "plt.show()"
   ]
  },
  {
   "cell_type": "markdown",
   "metadata": {},
   "source": [
    "4. Category wise installs"
   ]
  },
  {
   "cell_type": "code",
   "execution_count": 103,
   "metadata": {},
   "outputs": [],
   "source": [
    "category_wise_total_reviews = category_wise_total_reviews.sort_values(by = 'Installs', ascending = False)"
   ]
  },
  {
   "cell_type": "code",
   "execution_count": 104,
   "metadata": {},
   "outputs": [
    {
     "data": {
      "image/png": "[encoded data removed]",
      "text/plain": [
       "<Figure size 432x288 with 1 Axes>"
      ]
     },
     "metadata": {},
     "output_type": "display_data"
    }
   ],
   "source": [
    "plt.bar(category_wise_total_reviews.index, category_wise_total_reviews['Installs'], color = 'r', alpha = 0.8, label = 'Category wise Total Installs')\n",
    "plt.xlabel('Categories')\n",
    "plt.ylabel('Total Installs')\n",
    "plt.title('Category Wise Total Installs')\n",
    "plt.legend()\n",
    "axes = plt.gca()\n",
    "for label in axes.xaxis.get_ticklabels():\n",
    "    label.set_rotation(90)\n",
    "    \n",
    "plt.show()"
   ]
  },
  {
   "cell_type": "markdown",
   "metadata": {},
   "source": [
    "5. Category wise free/paid apps"
   ]
  },
  {
   "cell_type": "code",
   "execution_count": 166,
   "metadata": {},
   "outputs": [],
   "source": [
    "category_wise_price_type = df.groupby(['Category', 'Type'])['App'].count().unstack()\n",
    "category_wise_price_type = category_wise_price_type.sort_values(by = ['Free', 'Paid'], ascending = [False, False])"
   ]
  },
  {
   "cell_type": "code",
   "execution_count": 167,
   "metadata": {},
   "outputs": [
    {
     "data": {
      "image/png": "[encoded data removed]",
      "text/plain": [
       "<Figure size 432x288 with 1 Axes>"
      ]
     },
     "metadata": {},
     "output_type": "display_data"
    }
   ],
   "source": [
    "plt.bar(category_wise_price_type.index, category_wise_price_type['Free'], color = 'r', alpha = 0.8, label = 'Free Apps')\n",
    "plt.bar(category_wise_price_type.index, category_wise_price_type['Paid'], color = 'b', alpha = 0.8, label = 'Paid Apps')\n",
    "plt.xlabel('Categories')\n",
    "plt.ylabel('Total Types')\n",
    "plt.title('Category Wise Price Types')\n",
    "plt.legend()\n",
    "axes = plt.gca()\n",
    "for label in axes.xaxis.get_ticklabels():\n",
    "    label.set_rotation(90)\n",
    "    \n",
    "plt.show()"
   ]
  }
 ],
 "metadata": {
  "kernelspec": {
   "display_name": "Python 3",
   "language": "python",
   "name": "python3"
  },
  "language_info": {
   "codemirror_mode": {
    "name": "ipython",
    "version": 3
   },
   "file_extension": ".py",
   "mimetype": "text/x-python",
   "name": "python",
   "nbconvert_exporter": "python",
   "pygments_lexer": "ipython3",
   "version": "3.7.2"
  }
 },
 "nbformat": 4,
 "nbformat_minor": 2
}
